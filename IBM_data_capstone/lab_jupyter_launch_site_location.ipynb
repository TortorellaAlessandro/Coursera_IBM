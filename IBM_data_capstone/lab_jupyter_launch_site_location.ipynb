{
  "metadata": {
    "kernelspec": {
      "name": "python",
      "display_name": "Python (Pyodide)",
      "language": "python"
    },
    "language_info": {
      "codemirror_mode": {
        "name": "python",
        "version": 3
      },
      "file_extension": ".py",
      "mimetype": "text/x-python",
      "name": "python",
      "nbconvert_exporter": "python",
      "pygments_lexer": "ipython3",
      "version": "3.8"
    },
    "prev_pub_hash": "0f9db842b41c859223722809f8be602f5df9334348bd206b11e3af58c30eb345"
  },
  "nbformat_minor": 4,
  "nbformat": 4,
  "cells": [
    {
      "cell_type": "markdown",
      "source": "<p style=\"text-align:center\">\n    <a href=\"https://skills.network/?utm_medium=Exinfluencer&utm_source=Exinfluencer&utm_content=000026UJ&utm_term=10006555&utm_id=NA-SkillsNetwork-Channel-SkillsNetworkCoursesIBMDS0321ENSkillsNetwork26802033-2022-01-01\" target=\"_blank\">\n    <img src=\"https://cf-courses-data.s3.us.cloud-object-storage.appdomain.cloud/assets/logos/SN_web_lightmode.png\" width=\"200\" alt=\"Skills Network Logo\">\n    </a>\n</p>\n",
      "metadata": {}
    },
    {
      "cell_type": "markdown",
      "source": "# **Hands-on Lab: Interactive Visual Analytics with Folium**\n",
      "metadata": {}
    },
    {
      "cell_type": "markdown",
      "source": "Estimated time needed: **40** minutes\n",
      "metadata": {}
    },
    {
      "cell_type": "markdown",
      "source": "The launch success rate may depend on many factors such as payload mass, orbit type, and so on. It may also depend on the location and proximities of a launch site, i.e., the initial position of rocket trajectories. Finding an optimal location for building a launch site certainly involves many factors and hopefully we could discover some of the factors by analyzing the existing launch site locations.\n",
      "metadata": {}
    },
    {
      "cell_type": "markdown",
      "source": "In the previous exploratory data analysis labs, you have visualized the SpaceX launch dataset using `matplotlib` and `seaborn` and discovered some preliminary correlations between the launch site and success rates. In this lab, you will be performing more interactive visual analytics using `Folium`.\n",
      "metadata": {}
    },
    {
      "cell_type": "markdown",
      "source": "## Objectives\n",
      "metadata": {}
    },
    {
      "cell_type": "markdown",
      "source": "This lab contains the following tasks:\n\n*   **TASK 1:** Mark all launch sites on a map\n*   **TASK 2:** Mark the success/failed launches for each site on the map\n*   **TASK 3:** Calculate the distances between a launch site to its proximities\n\nAfter completed the above tasks, you should be able to find some geographical patterns about launch sites.\n",
      "metadata": {}
    },
    {
      "cell_type": "markdown",
      "source": "Let's first import required Python packages for this lab:\n",
      "metadata": {}
    },
    {
      "cell_type": "code",
      "source": "import piplite\nawait piplite.install(['folium'])\nawait piplite.install(['pandas'])",
      "metadata": {
        "trusted": true
      },
      "outputs": [],
      "execution_count": 1
    },
    {
      "cell_type": "code",
      "source": "import folium\nimport pandas as pd",
      "metadata": {
        "trusted": true
      },
      "outputs": [],
      "execution_count": 2
    },
    {
      "cell_type": "code",
      "source": "# Import folium MarkerCluster plugin\nfrom folium.plugins import MarkerCluster\n# Import folium MousePosition plugin\nfrom folium.plugins import MousePosition\n# Import folium DivIcon plugin\nfrom folium.features import DivIcon",
      "metadata": {
        "trusted": true
      },
      "outputs": [],
      "execution_count": 3
    },
    {
      "cell_type": "markdown",
      "source": "If you need to refresh your memory about folium, you may download and refer to this previous folium lab:\n",
      "metadata": {}
    },
    {
      "cell_type": "markdown",
      "source": "[Generating Maps with Python](https://cf-courses-data.s3.us.cloud-object-storage.appdomain.cloud/IBMDeveloperSkillsNetwork-DV0101EN-SkillsNetwork/labs/v4/DV0101EN-Exercise-Generating-Maps-in-Python.ipynb)\n",
      "metadata": {}
    },
    {
      "cell_type": "code",
      "source": "## Task 1: Mark all launch sites on a map",
      "metadata": {},
      "outputs": [],
      "execution_count": null
    },
    {
      "cell_type": "markdown",
      "source": "First, let's try to add each site's location on a map using site's latitude and longitude coordinates\n",
      "metadata": {}
    },
    {
      "cell_type": "markdown",
      "source": "The following dataset with the name `spacex_launch_geo.csv` is an augmented dataset with latitude and longitude added for each site.\n",
      "metadata": {}
    },
    {
      "cell_type": "code",
      "source": "# Download and read the `spacex_launch_geo.csv`\nfrom js import fetch\nimport io\n\nURL = 'https://cf-courses-data.s3.us.cloud-object-storage.appdomain.cloud/IBM-DS0321EN-SkillsNetwork/datasets/spacex_launch_geo.csv'\nresp = await fetch(URL)\nspacex_csv_file = io.BytesIO((await resp.arrayBuffer()).to_py())\nspacex_df=pd.read_csv(spacex_csv_file)",
      "metadata": {
        "trusted": true
      },
      "outputs": [],
      "execution_count": 4
    },
    {
      "cell_type": "markdown",
      "source": "Now, you can take a look at what are the coordinates for each site.\n",
      "metadata": {}
    },
    {
      "cell_type": "code",
      "source": "# Select relevant sub-columns: `Launch Site`, `Lat(Latitude)`, `Long(Longitude)`, `class`\nspacex_df = spacex_df[['Launch Site', 'Lat', 'Long', 'class']]\nlaunch_sites_df = spacex_df.groupby(['Launch Site'], as_index=False).first()\nlaunch_sites_df = launch_sites_df[['Launch Site', 'Lat', 'Long']]\nlaunch_sites_df",
      "metadata": {
        "trusted": true
      },
      "outputs": [
        {
          "execution_count": 11,
          "output_type": "execute_result",
          "data": {
            "text/plain": "    Launch Site        Lat        Long\n0   CCAFS LC-40  28.562302  -80.577356\n1  CCAFS SLC-40  28.563197  -80.576820\n2    KSC LC-39A  28.573255  -80.646895\n3   VAFB SLC-4E  34.632834 -120.610745",
            "text/html": "<div>\n<style scoped>\n    .dataframe tbody tr th:only-of-type {\n        vertical-align: middle;\n    }\n\n    .dataframe tbody tr th {\n        vertical-align: top;\n    }\n\n    .dataframe thead th {\n        text-align: right;\n    }\n</style>\n<table border=\"1\" class=\"dataframe\">\n  <thead>\n    <tr style=\"text-align: right;\">\n      <th></th>\n      <th>Launch Site</th>\n      <th>Lat</th>\n      <th>Long</th>\n    </tr>\n  </thead>\n  <tbody>\n    <tr>\n      <th>0</th>\n      <td>CCAFS LC-40</td>\n      <td>28.562302</td>\n      <td>-80.577356</td>\n    </tr>\n    <tr>\n      <th>1</th>\n      <td>CCAFS SLC-40</td>\n      <td>28.563197</td>\n      <td>-80.576820</td>\n    </tr>\n    <tr>\n      <th>2</th>\n      <td>KSC LC-39A</td>\n      <td>28.573255</td>\n      <td>-80.646895</td>\n    </tr>\n    <tr>\n      <th>3</th>\n      <td>VAFB SLC-4E</td>\n      <td>34.632834</td>\n      <td>-120.610745</td>\n    </tr>\n  </tbody>\n</table>\n</div>"
          },
          "metadata": {}
        }
      ],
      "execution_count": 11
    },
    {
      "cell_type": "markdown",
      "source": "Above coordinates are just plain numbers that can not give you any intuitive insights about where are those launch sites. If you are very good at geography, you can interpret those numbers directly in your mind. If not, that's fine too. Let's visualize those locations by pinning them on a map.\n",
      "metadata": {}
    },
    {
      "cell_type": "markdown",
      "source": "We first need to create a folium `Map` object, with an initial center location to be NASA Johnson Space Center at Houston, Texas.\n",
      "metadata": {}
    },
    {
      "cell_type": "code",
      "source": "# Start location is NASA Johnson Space Center\nnasa_coordinate = [29.559684888503615, -95.0830971930759]\nsite_map = folium.Map(location=nasa_coordinate, zoom_start=10)",
      "metadata": {
        "trusted": true
      },
      "outputs": [],
      "execution_count": 6
    },
    {
      "cell_type": "markdown",
      "source": "We could use `folium.Circle` to add a highlighted circle area with a text label on a specific coordinate. For example,\n",
      "metadata": {}
    },
    {
      "cell_type": "code",
      "source": "# Create a blue circle at NASA Johnson Space Center's coordinate with a popup label showing its name\ncircle = folium.Circle(nasa_coordinate, radius=1000, color='#d35400', fill=True).add_child(folium.Popup('NASA Johnson Space Center'))\n# Create a blue circle at NASA Johnson Space Center's coordinate with a icon showing its name\nmarker = folium.map.Marker(\n    nasa_coordinate,\n    # Create an icon as a text label\n    icon=DivIcon(\n        icon_size=(20,20),\n        icon_anchor=(0,0),\n        html='<div style=\"font-size: 12; color:#d35400;\"><b>%s</b></div>' % 'NASA JSC',\n        )\n    )\nsite_map.add_child(circle)\nsite_map.add_child(marker)",
      "metadata": {
        "trusted": true
      },
      "outputs": [
        {
          "execution_count": 12,
          "output_type": "execute_result",
          "data": {
            "text/plain": "<folium.folium.Map at 0x21685d8>",
            "text/html": "<div style=\"width:100%;\"><div style=\"position:relative;width:100%;height:0;padding-bottom:60%;\"><span style=\"color:#565656\">Make this Notebook Trusted to load map: File -> Trust Notebook</span><iframe srcdoc=\"&lt;!DOCTYPE html&gt;\n&lt;html&gt;\n&lt;head&gt;\n    \n    &lt;meta http-equiv=&quot;content-type&quot; content=&quot;text/html; charset=UTF-8&quot; /&gt;\n    \n        &lt;script&gt;\n            L_NO_TOUCH = false;\n            L_DISABLE_3D = false;\n        &lt;/script&gt;\n    \n    &lt;style&gt;html, body {width: 100%;height: 100%;margin: 0;padding: 0;}&lt;/style&gt;\n    &lt;style&gt;#map {position:absolute;top:0;bottom:0;right:0;left:0;}&lt;/style&gt;\n    &lt;script src=&quot;https://cdn.jsdelivr.net/npm/leaflet@1.9.3/dist/leaflet.js&quot;&gt;&lt;/script&gt;\n    &lt;script src=&quot;https://code.jquery.com/jquery-3.7.1.min.js&quot;&gt;&lt;/script&gt;\n    &lt;script src=&quot;https://cdn.jsdelivr.net/npm/bootstrap@5.2.2/dist/js/bootstrap.bundle.min.js&quot;&gt;&lt;/script&gt;\n    &lt;script src=&quot;https://cdnjs.cloudflare.com/ajax/libs/Leaflet.awesome-markers/2.0.2/leaflet.awesome-markers.js&quot;&gt;&lt;/script&gt;\n    &lt;link rel=&quot;stylesheet&quot; href=&quot;https://cdn.jsdelivr.net/npm/leaflet@1.9.3/dist/leaflet.css&quot;/&gt;\n    &lt;link rel=&quot;stylesheet&quot; href=&quot;https://cdn.jsdelivr.net/npm/bootstrap@5.2.2/dist/css/bootstrap.min.css&quot;/&gt;\n    &lt;link rel=&quot;stylesheet&quot; href=&quot;https://netdna.bootstrapcdn.com/bootstrap/3.0.0/css/bootstrap-glyphicons.css&quot;/&gt;\n    &lt;link rel=&quot;stylesheet&quot; href=&quot;https://cdn.jsdelivr.net/npm/@fortawesome/fontawesome-free@6.2.0/css/all.min.css&quot;/&gt;\n    &lt;link rel=&quot;stylesheet&quot; href=&quot;https://cdnjs.cloudflare.com/ajax/libs/Leaflet.awesome-markers/2.0.2/leaflet.awesome-markers.css&quot;/&gt;\n    &lt;link rel=&quot;stylesheet&quot; href=&quot;https://cdn.jsdelivr.net/gh/python-visualization/folium/folium/templates/leaflet.awesome.rotate.min.css&quot;/&gt;\n    \n            &lt;meta name=&quot;viewport&quot; content=&quot;width=device-width,\n                initial-scale=1.0, maximum-scale=1.0, user-scalable=no&quot; /&gt;\n            &lt;style&gt;\n                #map_2592cb0c1020417bbbba58b800476cca {\n                    position: relative;\n                    width: 100.0%;\n                    height: 100.0%;\n                    left: 0.0%;\n                    top: 0.0%;\n                }\n                .leaflet-container { font-size: 1rem; }\n            &lt;/style&gt;\n        \n&lt;/head&gt;\n&lt;body&gt;\n    \n    \n            &lt;div class=&quot;folium-map&quot; id=&quot;map_2592cb0c1020417bbbba58b800476cca&quot; &gt;&lt;/div&gt;\n        \n&lt;/body&gt;\n&lt;script&gt;\n    \n    \n            var map_2592cb0c1020417bbbba58b800476cca = L.map(\n                &quot;map_2592cb0c1020417bbbba58b800476cca&quot;,\n                {\n                    center: [29.559684888503615, -95.0830971930759],\n                    crs: L.CRS.EPSG3857,\n                    ...{\n  &quot;zoom&quot;: 10,\n  &quot;zoomControl&quot;: true,\n  &quot;preferCanvas&quot;: false,\n}\n\n                }\n            );\n\n            \n\n        \n    \n            var tile_layer_d50c3db802627a3710ded143b6d0f6b9 = L.tileLayer(\n                &quot;https://tile.openstreetmap.org/{z}/{x}/{y}.png&quot;,\n                {\n  &quot;minZoom&quot;: 0,\n  &quot;maxZoom&quot;: 19,\n  &quot;maxNativeZoom&quot;: 19,\n  &quot;noWrap&quot;: false,\n  &quot;attribution&quot;: &quot;\\u0026copy; \\u003ca href=\\&quot;https://www.openstreetmap.org/copyright\\&quot;\\u003eOpenStreetMap\\u003c/a\\u003e contributors&quot;,\n  &quot;subdomains&quot;: &quot;abc&quot;,\n  &quot;detectRetina&quot;: false,\n  &quot;tms&quot;: false,\n  &quot;opacity&quot;: 1,\n}\n\n            );\n        \n    \n            tile_layer_d50c3db802627a3710ded143b6d0f6b9.addTo(map_2592cb0c1020417bbbba58b800476cca);\n        \n    \n            var circle_4018179baff3ee95298bbaa147f0673b = L.circle(\n                [29.559684888503615, -95.0830971930759],\n                {&quot;bubblingMouseEvents&quot;: true, &quot;color&quot;: &quot;#d35400&quot;, &quot;dashArray&quot;: null, &quot;dashOffset&quot;: null, &quot;fill&quot;: true, &quot;fillColor&quot;: &quot;#d35400&quot;, &quot;fillOpacity&quot;: 0.2, &quot;fillRule&quot;: &quot;evenodd&quot;, &quot;lineCap&quot;: &quot;round&quot;, &quot;lineJoin&quot;: &quot;round&quot;, &quot;opacity&quot;: 1.0, &quot;radius&quot;: 1000, &quot;stroke&quot;: true, &quot;weight&quot;: 3}\n            ).addTo(map_2592cb0c1020417bbbba58b800476cca);\n        \n    \n        var popup_cecee9bf9d68c7d7b6148567edce0b5c = L.popup({\n  &quot;maxWidth&quot;: &quot;100%&quot;,\n});\n\n        \n            \n                var html_cd450ef955dbdd4c3eecfbbf264fea4a = $(`&lt;div id=&quot;html_cd450ef955dbdd4c3eecfbbf264fea4a&quot; style=&quot;width: 100.0%; height: 100.0%;&quot;&gt;NASA Johnson Space Center&lt;/div&gt;`)[0];\n                popup_cecee9bf9d68c7d7b6148567edce0b5c.setContent(html_cd450ef955dbdd4c3eecfbbf264fea4a);\n            \n        \n\n        circle_4018179baff3ee95298bbaa147f0673b.bindPopup(popup_cecee9bf9d68c7d7b6148567edce0b5c)\n        ;\n\n        \n    \n    \n            var marker_32057fcfe8d7dc6f3202b52e0b029e67 = L.marker(\n                [29.559684888503615, -95.0830971930759],\n                {\n}\n            ).addTo(map_2592cb0c1020417bbbba58b800476cca);\n        \n    \n            var div_icon_4e3190adc1f3e5aa3f8e836136aab453 = L.divIcon({\n  &quot;html&quot;: &quot;\\u003cdiv style=\\&quot;font-size: 12; color:#d35400;\\&quot;\\u003e\\u003cb\\u003eNASA JSC\\u003c/b\\u003e\\u003c/div\\u003e&quot;,\n  &quot;iconSize&quot;: [20, 20],\n  &quot;iconAnchor&quot;: [0, 0],\n  &quot;className&quot;: &quot;empty&quot;,\n});\n            marker_32057fcfe8d7dc6f3202b52e0b029e67.setIcon(div_icon_4e3190adc1f3e5aa3f8e836136aab453);\n        \n    \n                marker_32057fcfe8d7dc6f3202b52e0b029e67.setIcon(div_icon_4e3190adc1f3e5aa3f8e836136aab453);\n            \n&lt;/script&gt;\n&lt;/html&gt;\" style=\"position:absolute;width:100%;height:100%;left:0;top:0;border:none !important;\" allowfullscreen webkitallowfullscreen mozallowfullscreen></iframe></div></div>"
          },
          "metadata": {}
        }
      ],
      "execution_count": 12
    },
    {
      "cell_type": "markdown",
      "source": "and you should find a small yellow circle near the city of Houston and you can zoom-in to see a larger circle.\n",
      "metadata": {}
    },
    {
      "cell_type": "markdown",
      "source": "Now, let's add a circle for each launch site in data frame `launch_sites`\n",
      "metadata": {}
    },
    {
      "cell_type": "markdown",
      "source": "*TODO:*  Create and add `folium.Circle` and `folium.Marker` for each launch site on the site map\n",
      "metadata": {}
    },
    {
      "cell_type": "markdown",
      "source": "An example of folium.Circle:\n",
      "metadata": {}
    },
    {
      "cell_type": "markdown",
      "source": "`folium.Circle(coordinate, radius=1000, color='#000000', fill=True).add_child(folium.Popup(...))`\n",
      "metadata": {}
    },
    {
      "cell_type": "markdown",
      "source": "An example of folium.Marker:\n",
      "metadata": {}
    },
    {
      "cell_type": "markdown",
      "source": "`folium.map.Marker(coordinate, icon=DivIcon(icon_size=(20,20),icon_anchor=(0,0), html='<div style=\"font-size: 12; color:#d35400;\"><b>%s</b></div>' % 'label', ))`\n",
      "metadata": {}
    },
    {
      "cell_type": "code",
      "source": "# Initial the map\nsite_map = folium.Map(location=nasa_coordinate, zoom_start=5)\nlaunch_sites_circles= folium.map.FeatureGroup()\nlaunch_sites_markers= folium.map.FeatureGroup()\n# For each launch site, add a Circle object based on its coordinate (Lat, Long) values. In addition, add Launch site name as a popup label\nfor lat, lng, name in zip(launch_sites_df[\"Lat\"], launch_sites_df[\"Long\"], launch_sites_df[\"Launch Site\"]):\n    launch_sites_circles.add_child(\n        folium.Circle(\n            [lat, lng],\n            radius= 1000,\n            color= \"#000000\",\n            fill= True\n        ).add_child(folium.Popup(name))\n    )\n\n    launch_sites_markers.add_child(\n        folium.map.Marker(\n            [lat, lng],\n            icon=DivIcon(\n                icon_size=(20,20),icon_anchor=(0,0), html='<div style=\"font-size: 12; color:#d35400;\"><b>%s</b></div>' % name,\n        ))\n    )\nsite_map.add_child(launch_sites_circles)\nsite_map.add_child(launch_sites_markers)",
      "metadata": {
        "trusted": true
      },
      "outputs": [
        {
          "execution_count": 31,
          "output_type": "execute_result",
          "data": {
            "text/plain": "<folium.folium.Map at 0x6966530>",
            "text/html": "<div style=\"width:100%;\"><div style=\"position:relative;width:100%;height:0;padding-bottom:60%;\"><span style=\"color:#565656\">Make this Notebook Trusted to load map: File -> Trust Notebook</span><iframe srcdoc=\"&lt;!DOCTYPE html&gt;\n&lt;html&gt;\n&lt;head&gt;\n    \n    &lt;meta http-equiv=&quot;content-type&quot; content=&quot;text/html; charset=UTF-8&quot; /&gt;\n    \n        &lt;script&gt;\n            L_NO_TOUCH = false;\n            L_DISABLE_3D = false;\n        &lt;/script&gt;\n    \n    &lt;style&gt;html, body {width: 100%;height: 100%;margin: 0;padding: 0;}&lt;/style&gt;\n    &lt;style&gt;#map {position:absolute;top:0;bottom:0;right:0;left:0;}&lt;/style&gt;\n    &lt;script src=&quot;https://cdn.jsdelivr.net/npm/leaflet@1.9.3/dist/leaflet.js&quot;&gt;&lt;/script&gt;\n    &lt;script src=&quot;https://code.jquery.com/jquery-3.7.1.min.js&quot;&gt;&lt;/script&gt;\n    &lt;script src=&quot;https://cdn.jsdelivr.net/npm/bootstrap@5.2.2/dist/js/bootstrap.bundle.min.js&quot;&gt;&lt;/script&gt;\n    &lt;script src=&quot;https://cdnjs.cloudflare.com/ajax/libs/Leaflet.awesome-markers/2.0.2/leaflet.awesome-markers.js&quot;&gt;&lt;/script&gt;\n    &lt;link rel=&quot;stylesheet&quot; href=&quot;https://cdn.jsdelivr.net/npm/leaflet@1.9.3/dist/leaflet.css&quot;/&gt;\n    &lt;link rel=&quot;stylesheet&quot; href=&quot;https://cdn.jsdelivr.net/npm/bootstrap@5.2.2/dist/css/bootstrap.min.css&quot;/&gt;\n    &lt;link rel=&quot;stylesheet&quot; href=&quot;https://netdna.bootstrapcdn.com/bootstrap/3.0.0/css/bootstrap-glyphicons.css&quot;/&gt;\n    &lt;link rel=&quot;stylesheet&quot; href=&quot;https://cdn.jsdelivr.net/npm/@fortawesome/fontawesome-free@6.2.0/css/all.min.css&quot;/&gt;\n    &lt;link rel=&quot;stylesheet&quot; href=&quot;https://cdnjs.cloudflare.com/ajax/libs/Leaflet.awesome-markers/2.0.2/leaflet.awesome-markers.css&quot;/&gt;\n    &lt;link rel=&quot;stylesheet&quot; href=&quot;https://cdn.jsdelivr.net/gh/python-visualization/folium/folium/templates/leaflet.awesome.rotate.min.css&quot;/&gt;\n    \n            &lt;meta name=&quot;viewport&quot; content=&quot;width=device-width,\n                initial-scale=1.0, maximum-scale=1.0, user-scalable=no&quot; /&gt;\n            &lt;style&gt;\n                #map_1e2c00c0be9c316a1621ebc0ac7e5d45 {\n                    position: relative;\n                    width: 100.0%;\n                    height: 100.0%;\n                    left: 0.0%;\n                    top: 0.0%;\n                }\n                .leaflet-container { font-size: 1rem; }\n            &lt;/style&gt;\n        \n&lt;/head&gt;\n&lt;body&gt;\n    \n    \n            &lt;div class=&quot;folium-map&quot; id=&quot;map_1e2c00c0be9c316a1621ebc0ac7e5d45&quot; &gt;&lt;/div&gt;\n        \n&lt;/body&gt;\n&lt;script&gt;\n    \n    \n            var map_1e2c00c0be9c316a1621ebc0ac7e5d45 = L.map(\n                &quot;map_1e2c00c0be9c316a1621ebc0ac7e5d45&quot;,\n                {\n                    center: [29.559684888503615, -95.0830971930759],\n                    crs: L.CRS.EPSG3857,\n                    ...{\n  &quot;zoom&quot;: 5,\n  &quot;zoomControl&quot;: true,\n  &quot;preferCanvas&quot;: false,\n}\n\n                }\n            );\n\n            \n\n        \n    \n            var tile_layer_b112c9577b06ff545c623e3514613dee = L.tileLayer(\n                &quot;https://tile.openstreetmap.org/{z}/{x}/{y}.png&quot;,\n                {\n  &quot;minZoom&quot;: 0,\n  &quot;maxZoom&quot;: 19,\n  &quot;maxNativeZoom&quot;: 19,\n  &quot;noWrap&quot;: false,\n  &quot;attribution&quot;: &quot;\\u0026copy; \\u003ca href=\\&quot;https://www.openstreetmap.org/copyright\\&quot;\\u003eOpenStreetMap\\u003c/a\\u003e contributors&quot;,\n  &quot;subdomains&quot;: &quot;abc&quot;,\n  &quot;detectRetina&quot;: false,\n  &quot;tms&quot;: false,\n  &quot;opacity&quot;: 1,\n}\n\n            );\n        \n    \n            tile_layer_b112c9577b06ff545c623e3514613dee.addTo(map_1e2c00c0be9c316a1621ebc0ac7e5d45);\n        \n    \n            var feature_group_fa8e2411882f14d9e68f338927d10338 = L.featureGroup(\n                {\n}\n            );\n        \n    \n            var circle_47f6d945aeae18b91b1c5a44c7f85ec1 = L.circle(\n                [28.56230197, -80.57735648],\n                {&quot;bubblingMouseEvents&quot;: true, &quot;color&quot;: &quot;#000000&quot;, &quot;dashArray&quot;: null, &quot;dashOffset&quot;: null, &quot;fill&quot;: true, &quot;fillColor&quot;: &quot;#000000&quot;, &quot;fillOpacity&quot;: 0.2, &quot;fillRule&quot;: &quot;evenodd&quot;, &quot;lineCap&quot;: &quot;round&quot;, &quot;lineJoin&quot;: &quot;round&quot;, &quot;opacity&quot;: 1.0, &quot;radius&quot;: 1000, &quot;stroke&quot;: true, &quot;weight&quot;: 3}\n            ).addTo(feature_group_fa8e2411882f14d9e68f338927d10338);\n        \n    \n        var popup_70d917c5116229afb4a98f658d4fa36a = L.popup({\n  &quot;maxWidth&quot;: &quot;100%&quot;,\n});\n\n        \n            \n                var html_582427627be99d773da94e48e20f1866 = $(`&lt;div id=&quot;html_582427627be99d773da94e48e20f1866&quot; style=&quot;width: 100.0%; height: 100.0%;&quot;&gt;CCAFS LC-40&lt;/div&gt;`)[0];\n                popup_70d917c5116229afb4a98f658d4fa36a.setContent(html_582427627be99d773da94e48e20f1866);\n            \n        \n\n        circle_47f6d945aeae18b91b1c5a44c7f85ec1.bindPopup(popup_70d917c5116229afb4a98f658d4fa36a)\n        ;\n\n        \n    \n    \n            var circle_e72550e13bba94197cf2e35daa014860 = L.circle(\n                [28.56319718, -80.57682003],\n                {&quot;bubblingMouseEvents&quot;: true, &quot;color&quot;: &quot;#000000&quot;, &quot;dashArray&quot;: null, &quot;dashOffset&quot;: null, &quot;fill&quot;: true, &quot;fillColor&quot;: &quot;#000000&quot;, &quot;fillOpacity&quot;: 0.2, &quot;fillRule&quot;: &quot;evenodd&quot;, &quot;lineCap&quot;: &quot;round&quot;, &quot;lineJoin&quot;: &quot;round&quot;, &quot;opacity&quot;: 1.0, &quot;radius&quot;: 1000, &quot;stroke&quot;: true, &quot;weight&quot;: 3}\n            ).addTo(feature_group_fa8e2411882f14d9e68f338927d10338);\n        \n    \n        var popup_18e8676361678b53208952b9bfbede10 = L.popup({\n  &quot;maxWidth&quot;: &quot;100%&quot;,\n});\n\n        \n            \n                var html_3d21a341b68542efd7ed7d66aac30ca7 = $(`&lt;div id=&quot;html_3d21a341b68542efd7ed7d66aac30ca7&quot; style=&quot;width: 100.0%; height: 100.0%;&quot;&gt;CCAFS SLC-40&lt;/div&gt;`)[0];\n                popup_18e8676361678b53208952b9bfbede10.setContent(html_3d21a341b68542efd7ed7d66aac30ca7);\n            \n        \n\n        circle_e72550e13bba94197cf2e35daa014860.bindPopup(popup_18e8676361678b53208952b9bfbede10)\n        ;\n\n        \n    \n    \n            var circle_5acbebe906d2e926a06cc4e4bb7024d5 = L.circle(\n                [28.57325457, -80.64689529],\n                {&quot;bubblingMouseEvents&quot;: true, &quot;color&quot;: &quot;#000000&quot;, &quot;dashArray&quot;: null, &quot;dashOffset&quot;: null, &quot;fill&quot;: true, &quot;fillColor&quot;: &quot;#000000&quot;, &quot;fillOpacity&quot;: 0.2, &quot;fillRule&quot;: &quot;evenodd&quot;, &quot;lineCap&quot;: &quot;round&quot;, &quot;lineJoin&quot;: &quot;round&quot;, &quot;opacity&quot;: 1.0, &quot;radius&quot;: 1000, &quot;stroke&quot;: true, &quot;weight&quot;: 3}\n            ).addTo(feature_group_fa8e2411882f14d9e68f338927d10338);\n        \n    \n        var popup_fb4973df4db36d517721b423c2e9b049 = L.popup({\n  &quot;maxWidth&quot;: &quot;100%&quot;,\n});\n\n        \n            \n                var html_358782a1bc61c095f45a47f7e5c2d4d2 = $(`&lt;div id=&quot;html_358782a1bc61c095f45a47f7e5c2d4d2&quot; style=&quot;width: 100.0%; height: 100.0%;&quot;&gt;KSC LC-39A&lt;/div&gt;`)[0];\n                popup_fb4973df4db36d517721b423c2e9b049.setContent(html_358782a1bc61c095f45a47f7e5c2d4d2);\n            \n        \n\n        circle_5acbebe906d2e926a06cc4e4bb7024d5.bindPopup(popup_fb4973df4db36d517721b423c2e9b049)\n        ;\n\n        \n    \n    \n            var circle_0587c17f8aa205bc398d9d3ae796f78d = L.circle(\n                [34.63283416, -120.6107455],\n                {&quot;bubblingMouseEvents&quot;: true, &quot;color&quot;: &quot;#000000&quot;, &quot;dashArray&quot;: null, &quot;dashOffset&quot;: null, &quot;fill&quot;: true, &quot;fillColor&quot;: &quot;#000000&quot;, &quot;fillOpacity&quot;: 0.2, &quot;fillRule&quot;: &quot;evenodd&quot;, &quot;lineCap&quot;: &quot;round&quot;, &quot;lineJoin&quot;: &quot;round&quot;, &quot;opacity&quot;: 1.0, &quot;radius&quot;: 1000, &quot;stroke&quot;: true, &quot;weight&quot;: 3}\n            ).addTo(feature_group_fa8e2411882f14d9e68f338927d10338);\n        \n    \n        var popup_163ee2706f8623a99dce35a3cc82a11a = L.popup({\n  &quot;maxWidth&quot;: &quot;100%&quot;,\n});\n\n        \n            \n                var html_f3e974a14a25282ac627d9be151366f5 = $(`&lt;div id=&quot;html_f3e974a14a25282ac627d9be151366f5&quot; style=&quot;width: 100.0%; height: 100.0%;&quot;&gt;VAFB SLC-4E&lt;/div&gt;`)[0];\n                popup_163ee2706f8623a99dce35a3cc82a11a.setContent(html_f3e974a14a25282ac627d9be151366f5);\n            \n        \n\n        circle_0587c17f8aa205bc398d9d3ae796f78d.bindPopup(popup_163ee2706f8623a99dce35a3cc82a11a)\n        ;\n\n        \n    \n    \n            feature_group_fa8e2411882f14d9e68f338927d10338.addTo(map_1e2c00c0be9c316a1621ebc0ac7e5d45);\n        \n    \n            var feature_group_f60354a15b6c5ad155875912d876005d = L.featureGroup(\n                {\n}\n            );\n        \n    \n            var marker_7d5126bf2ca637bb883878b945662c64 = L.marker(\n                [28.56230197, -80.57735648],\n                {\n}\n            ).addTo(feature_group_f60354a15b6c5ad155875912d876005d);\n        \n    \n            var div_icon_5078af8ee6f00e757b46880fd46d25e4 = L.divIcon({\n  &quot;html&quot;: &quot;\\u003cdiv style=\\&quot;font-size: 12; color:#d35400;\\&quot;\\u003e\\u003cb\\u003eCCAFS LC-40\\u003c/b\\u003e\\u003c/div\\u003e&quot;,\n  &quot;iconSize&quot;: [20, 20],\n  &quot;iconAnchor&quot;: [0, 0],\n  &quot;className&quot;: &quot;empty&quot;,\n});\n            marker_7d5126bf2ca637bb883878b945662c64.setIcon(div_icon_5078af8ee6f00e757b46880fd46d25e4);\n        \n    \n                marker_7d5126bf2ca637bb883878b945662c64.setIcon(div_icon_5078af8ee6f00e757b46880fd46d25e4);\n            \n    \n            var marker_3de74d1d9903a686d2e915254c542148 = L.marker(\n                [28.56319718, -80.57682003],\n                {\n}\n            ).addTo(feature_group_f60354a15b6c5ad155875912d876005d);\n        \n    \n            var div_icon_2563fd1d3c1b403ac3559c18d76b8342 = L.divIcon({\n  &quot;html&quot;: &quot;\\u003cdiv style=\\&quot;font-size: 12; color:#d35400;\\&quot;\\u003e\\u003cb\\u003eCCAFS SLC-40\\u003c/b\\u003e\\u003c/div\\u003e&quot;,\n  &quot;iconSize&quot;: [20, 20],\n  &quot;iconAnchor&quot;: [0, 0],\n  &quot;className&quot;: &quot;empty&quot;,\n});\n            marker_3de74d1d9903a686d2e915254c542148.setIcon(div_icon_2563fd1d3c1b403ac3559c18d76b8342);\n        \n    \n                marker_3de74d1d9903a686d2e915254c542148.setIcon(div_icon_2563fd1d3c1b403ac3559c18d76b8342);\n            \n    \n            var marker_e15d03d0aeb300b53c58214106de8099 = L.marker(\n                [28.57325457, -80.64689529],\n                {\n}\n            ).addTo(feature_group_f60354a15b6c5ad155875912d876005d);\n        \n    \n            var div_icon_f51148168c30f230d05ee604d18868e5 = L.divIcon({\n  &quot;html&quot;: &quot;\\u003cdiv style=\\&quot;font-size: 12; color:#d35400;\\&quot;\\u003e\\u003cb\\u003eKSC LC-39A\\u003c/b\\u003e\\u003c/div\\u003e&quot;,\n  &quot;iconSize&quot;: [20, 20],\n  &quot;iconAnchor&quot;: [0, 0],\n  &quot;className&quot;: &quot;empty&quot;,\n});\n            marker_e15d03d0aeb300b53c58214106de8099.setIcon(div_icon_f51148168c30f230d05ee604d18868e5);\n        \n    \n                marker_e15d03d0aeb300b53c58214106de8099.setIcon(div_icon_f51148168c30f230d05ee604d18868e5);\n            \n    \n            var marker_b7c794f6d5ff7504767d65d16c509a6b = L.marker(\n                [34.63283416, -120.6107455],\n                {\n}\n            ).addTo(feature_group_f60354a15b6c5ad155875912d876005d);\n        \n    \n            var div_icon_884502e2b18d38a36356d17e1fccea70 = L.divIcon({\n  &quot;html&quot;: &quot;\\u003cdiv style=\\&quot;font-size: 12; color:#d35400;\\&quot;\\u003e\\u003cb\\u003eVAFB SLC-4E\\u003c/b\\u003e\\u003c/div\\u003e&quot;,\n  &quot;iconSize&quot;: [20, 20],\n  &quot;iconAnchor&quot;: [0, 0],\n  &quot;className&quot;: &quot;empty&quot;,\n});\n            marker_b7c794f6d5ff7504767d65d16c509a6b.setIcon(div_icon_884502e2b18d38a36356d17e1fccea70);\n        \n    \n                marker_b7c794f6d5ff7504767d65d16c509a6b.setIcon(div_icon_884502e2b18d38a36356d17e1fccea70);\n            \n    \n            feature_group_f60354a15b6c5ad155875912d876005d.addTo(map_1e2c00c0be9c316a1621ebc0ac7e5d45);\n        \n&lt;/script&gt;\n&lt;/html&gt;\" style=\"position:absolute;width:100%;height:100%;left:0;top:0;border:none !important;\" allowfullscreen webkitallowfullscreen mozallowfullscreen></iframe></div></div>"
          },
          "metadata": {}
        }
      ],
      "execution_count": 31
    },
    {
      "cell_type": "markdown",
      "source": "The generated map with marked launch sites should look similar to the following:\n",
      "metadata": {}
    },
    {
      "cell_type": "markdown",
      "source": "<center>\n    <img src=\"https://cf-courses-data.s3.us.cloud-object-storage.appdomain.cloud/IBM-DS0321EN-SkillsNetwork/labs/module_3/images/launch_site_markers.png\">\n</center>\n",
      "metadata": {}
    },
    {
      "cell_type": "markdown",
      "source": "Now, you can explore the map by zoom-in/out the marked areas\n, and try to answer the following questions:\n\n*   Are all launch sites in proximity to the Equator line?\n*   Are all launch sites in very close proximity to the coast?\n\nAlso please try to explain your findings.\n",
      "metadata": {}
    },
    {
      "cell_type": "code",
      "source": "# Task 2: Mark the success/failed launches for each site on the map\n",
      "metadata": {},
      "outputs": [],
      "execution_count": null
    },
    {
      "cell_type": "markdown",
      "source": "Next, let's try to enhance the map by adding the launch outcomes for each site, and see which sites have high success rates.\nRecall that data frame spacex_df has detailed launch records, and the `class` column indicates if this launch was successful or not\n",
      "metadata": {}
    },
    {
      "cell_type": "code",
      "source": "spacex_df.tail(10)",
      "metadata": {},
      "outputs": [],
      "execution_count": null
    },
    {
      "cell_type": "markdown",
      "source": "Next, let's create markers for all launch records.\nIf a launch was successful `(class=1)`, then we use a green marker and if a launch was failed, we use a red marker `(class=0)`\n",
      "metadata": {}
    },
    {
      "cell_type": "markdown",
      "source": "Note that a launch only happens in one of the four launch sites, which means many launch records will have the exact same coordinate. Marker clusters can be a good way to simplify a map containing many markers having the same coordinate.\n",
      "metadata": {}
    },
    {
      "cell_type": "markdown",
      "source": "Let's first create a `MarkerCluster` object\n",
      "metadata": {}
    },
    {
      "cell_type": "code",
      "source": "marker_cluster = MarkerCluster()\n",
      "metadata": {
        "trusted": true
      },
      "outputs": [],
      "execution_count": 32
    },
    {
      "cell_type": "markdown",
      "source": "*TODO:* Create a new column in `spacex_df` dataframe called `marker_color` to store the marker colors based on the `class` value\n",
      "metadata": {}
    },
    {
      "cell_type": "code",
      "source": "# Apply a function to check the value of `class` column\n# If class=1, marker_color value will be green\n# If class=0, marker_color value will be red\ndef color_selector(result: bool):\n    marker_color= \"red\"\n    if result:\n        marker_color= \"green\"\n    return marker_color",
      "metadata": {
        "trusted": true
      },
      "outputs": [],
      "execution_count": 18
    },
    {
      "cell_type": "markdown",
      "source": "*TODO:* For each launch result in `spacex_df` data frame, add a `folium.Marker` to `marker_cluster`\n",
      "metadata": {}
    },
    {
      "cell_type": "code",
      "source": "# Add marker_cluster to current site_map\nsite_map.add_child(marker_cluster)\n\n# for each row in spacex_df data frame\n# create a Marker object with its coordinate\n# and customize the Marker's icon property to indicate if this launch was successed or failed, \n# e.g., icon=folium.Icon(color='white', icon_color=row['marker_color']\nfor index, record in spacex_df.iterrows():\n    # TODO: Create and add a Marker cluster to the site map\n    # marker = folium.Marker(...)\n    marker_cluster.add_child(\n        folium.map.Marker(\n            location= [record[\"Lat\"], record[\"Long\"]],\n            color= color_selector(record[\"class\"]),\n            icon= folium.Icon(color= color_selector(record[\"class\"]))\n        )\n    )\n\nsite_map",
      "metadata": {
        "trusted": true
      },
      "outputs": [
        {
          "execution_count": 33,
          "output_type": "execute_result",
          "data": {
            "text/plain": "<folium.folium.Map at 0x6966530>",
            "text/html": "<div style=\"width:100%;\"><div style=\"position:relative;width:100%;height:0;padding-bottom:60%;\"><span style=\"color:#565656\">Make this Notebook Trusted to load map: File -> Trust Notebook</span><iframe srcdoc=\"&lt;!DOCTYPE html&gt;\n&lt;html&gt;\n&lt;head&gt;\n    \n    &lt;meta http-equiv=&quot;content-type&quot; content=&quot;text/html; charset=UTF-8&quot; /&gt;\n    \n        &lt;script&gt;\n            L_NO_TOUCH = false;\n            L_DISABLE_3D = false;\n        &lt;/script&gt;\n    \n    &lt;style&gt;html, body {width: 100%;height: 100%;margin: 0;padding: 0;}&lt;/style&gt;\n    &lt;style&gt;#map {position:absolute;top:0;bottom:0;right:0;left:0;}&lt;/style&gt;\n    &lt;script src=&quot;https://cdn.jsdelivr.net/npm/leaflet@1.9.3/dist/leaflet.js&quot;&gt;&lt;/script&gt;\n    &lt;script src=&quot;https://code.jquery.com/jquery-3.7.1.min.js&quot;&gt;&lt;/script&gt;\n    &lt;script src=&quot;https://cdn.jsdelivr.net/npm/bootstrap@5.2.2/dist/js/bootstrap.bundle.min.js&quot;&gt;&lt;/script&gt;\n    &lt;script src=&quot;https://cdnjs.cloudflare.com/ajax/libs/Leaflet.awesome-markers/2.0.2/leaflet.awesome-markers.js&quot;&gt;&lt;/script&gt;\n    &lt;link rel=&quot;stylesheet&quot; href=&quot;https://cdn.jsdelivr.net/npm/leaflet@1.9.3/dist/leaflet.css&quot;/&gt;\n    &lt;link rel=&quot;stylesheet&quot; href=&quot;https://cdn.jsdelivr.net/npm/bootstrap@5.2.2/dist/css/bootstrap.min.css&quot;/&gt;\n    &lt;link rel=&quot;stylesheet&quot; href=&quot;https://netdna.bootstrapcdn.com/bootstrap/3.0.0/css/bootstrap-glyphicons.css&quot;/&gt;\n    &lt;link rel=&quot;stylesheet&quot; href=&quot;https://cdn.jsdelivr.net/npm/@fortawesome/fontawesome-free@6.2.0/css/all.min.css&quot;/&gt;\n    &lt;link rel=&quot;stylesheet&quot; href=&quot;https://cdnjs.cloudflare.com/ajax/libs/Leaflet.awesome-markers/2.0.2/leaflet.awesome-markers.css&quot;/&gt;\n    &lt;link rel=&quot;stylesheet&quot; href=&quot;https://cdn.jsdelivr.net/gh/python-visualization/folium/folium/templates/leaflet.awesome.rotate.min.css&quot;/&gt;\n    \n            &lt;meta name=&quot;viewport&quot; content=&quot;width=device-width,\n                initial-scale=1.0, maximum-scale=1.0, user-scalable=no&quot; /&gt;\n            &lt;style&gt;\n                #map_1e2c00c0be9c316a1621ebc0ac7e5d45 {\n                    position: relative;\n                    width: 100.0%;\n                    height: 100.0%;\n                    left: 0.0%;\n                    top: 0.0%;\n                }\n                .leaflet-container { font-size: 1rem; }\n            &lt;/style&gt;\n        \n    &lt;script src=&quot;https://cdnjs.cloudflare.com/ajax/libs/leaflet.markercluster/1.1.0/leaflet.markercluster.js&quot;&gt;&lt;/script&gt;\n    &lt;link rel=&quot;stylesheet&quot; href=&quot;https://cdnjs.cloudflare.com/ajax/libs/leaflet.markercluster/1.1.0/MarkerCluster.css&quot;/&gt;\n    &lt;link rel=&quot;stylesheet&quot; href=&quot;https://cdnjs.cloudflare.com/ajax/libs/leaflet.markercluster/1.1.0/MarkerCluster.Default.css&quot;/&gt;\n&lt;/head&gt;\n&lt;body&gt;\n    \n    \n            &lt;div class=&quot;folium-map&quot; id=&quot;map_1e2c00c0be9c316a1621ebc0ac7e5d45&quot; &gt;&lt;/div&gt;\n        \n&lt;/body&gt;\n&lt;script&gt;\n    \n    \n            var map_1e2c00c0be9c316a1621ebc0ac7e5d45 = L.map(\n                &quot;map_1e2c00c0be9c316a1621ebc0ac7e5d45&quot;,\n                {\n                    center: [29.559684888503615, -95.0830971930759],\n                    crs: L.CRS.EPSG3857,\n                    ...{\n  &quot;zoom&quot;: 5,\n  &quot;zoomControl&quot;: true,\n  &quot;preferCanvas&quot;: false,\n}\n\n                }\n            );\n\n            \n\n        \n    \n            var tile_layer_b112c9577b06ff545c623e3514613dee = L.tileLayer(\n                &quot;https://tile.openstreetmap.org/{z}/{x}/{y}.png&quot;,\n                {\n  &quot;minZoom&quot;: 0,\n  &quot;maxZoom&quot;: 19,\n  &quot;maxNativeZoom&quot;: 19,\n  &quot;noWrap&quot;: false,\n  &quot;attribution&quot;: &quot;\\u0026copy; \\u003ca href=\\&quot;https://www.openstreetmap.org/copyright\\&quot;\\u003eOpenStreetMap\\u003c/a\\u003e contributors&quot;,\n  &quot;subdomains&quot;: &quot;abc&quot;,\n  &quot;detectRetina&quot;: false,\n  &quot;tms&quot;: false,\n  &quot;opacity&quot;: 1,\n}\n\n            );\n        \n    \n            tile_layer_b112c9577b06ff545c623e3514613dee.addTo(map_1e2c00c0be9c316a1621ebc0ac7e5d45);\n        \n    \n            var feature_group_fa8e2411882f14d9e68f338927d10338 = L.featureGroup(\n                {\n}\n            );\n        \n    \n            var circle_47f6d945aeae18b91b1c5a44c7f85ec1 = L.circle(\n                [28.56230197, -80.57735648],\n                {&quot;bubblingMouseEvents&quot;: true, &quot;color&quot;: &quot;#000000&quot;, &quot;dashArray&quot;: null, &quot;dashOffset&quot;: null, &quot;fill&quot;: true, &quot;fillColor&quot;: &quot;#000000&quot;, &quot;fillOpacity&quot;: 0.2, &quot;fillRule&quot;: &quot;evenodd&quot;, &quot;lineCap&quot;: &quot;round&quot;, &quot;lineJoin&quot;: &quot;round&quot;, &quot;opacity&quot;: 1.0, &quot;radius&quot;: 1000, &quot;stroke&quot;: true, &quot;weight&quot;: 3}\n            ).addTo(feature_group_fa8e2411882f14d9e68f338927d10338);\n        \n    \n        var popup_70d917c5116229afb4a98f658d4fa36a = L.popup({\n  &quot;maxWidth&quot;: &quot;100%&quot;,\n});\n\n        \n            \n                var html_582427627be99d773da94e48e20f1866 = $(`&lt;div id=&quot;html_582427627be99d773da94e48e20f1866&quot; style=&quot;width: 100.0%; height: 100.0%;&quot;&gt;CCAFS LC-40&lt;/div&gt;`)[0];\n                popup_70d917c5116229afb4a98f658d4fa36a.setContent(html_582427627be99d773da94e48e20f1866);\n            \n        \n\n        circle_47f6d945aeae18b91b1c5a44c7f85ec1.bindPopup(popup_70d917c5116229afb4a98f658d4fa36a)\n        ;\n\n        \n    \n    \n            var circle_e72550e13bba94197cf2e35daa014860 = L.circle(\n                [28.56319718, -80.57682003],\n                {&quot;bubblingMouseEvents&quot;: true, &quot;color&quot;: &quot;#000000&quot;, &quot;dashArray&quot;: null, &quot;dashOffset&quot;: null, &quot;fill&quot;: true, &quot;fillColor&quot;: &quot;#000000&quot;, &quot;fillOpacity&quot;: 0.2, &quot;fillRule&quot;: &quot;evenodd&quot;, &quot;lineCap&quot;: &quot;round&quot;, &quot;lineJoin&quot;: &quot;round&quot;, &quot;opacity&quot;: 1.0, &quot;radius&quot;: 1000, &quot;stroke&quot;: true, &quot;weight&quot;: 3}\n            ).addTo(feature_group_fa8e2411882f14d9e68f338927d10338);\n        \n    \n        var popup_18e8676361678b53208952b9bfbede10 = L.popup({\n  &quot;maxWidth&quot;: &quot;100%&quot;,\n});\n\n        \n            \n                var html_3d21a341b68542efd7ed7d66aac30ca7 = $(`&lt;div id=&quot;html_3d21a341b68542efd7ed7d66aac30ca7&quot; style=&quot;width: 100.0%; height: 100.0%;&quot;&gt;CCAFS SLC-40&lt;/div&gt;`)[0];\n                popup_18e8676361678b53208952b9bfbede10.setContent(html_3d21a341b68542efd7ed7d66aac30ca7);\n            \n        \n\n        circle_e72550e13bba94197cf2e35daa014860.bindPopup(popup_18e8676361678b53208952b9bfbede10)\n        ;\n\n        \n    \n    \n            var circle_5acbebe906d2e926a06cc4e4bb7024d5 = L.circle(\n                [28.57325457, -80.64689529],\n                {&quot;bubblingMouseEvents&quot;: true, &quot;color&quot;: &quot;#000000&quot;, &quot;dashArray&quot;: null, &quot;dashOffset&quot;: null, &quot;fill&quot;: true, &quot;fillColor&quot;: &quot;#000000&quot;, &quot;fillOpacity&quot;: 0.2, &quot;fillRule&quot;: &quot;evenodd&quot;, &quot;lineCap&quot;: &quot;round&quot;, &quot;lineJoin&quot;: &quot;round&quot;, &quot;opacity&quot;: 1.0, &quot;radius&quot;: 1000, &quot;stroke&quot;: true, &quot;weight&quot;: 3}\n            ).addTo(feature_group_fa8e2411882f14d9e68f338927d10338);\n        \n    \n        var popup_fb4973df4db36d517721b423c2e9b049 = L.popup({\n  &quot;maxWidth&quot;: &quot;100%&quot;,\n});\n\n        \n            \n                var html_358782a1bc61c095f45a47f7e5c2d4d2 = $(`&lt;div id=&quot;html_358782a1bc61c095f45a47f7e5c2d4d2&quot; style=&quot;width: 100.0%; height: 100.0%;&quot;&gt;KSC LC-39A&lt;/div&gt;`)[0];\n                popup_fb4973df4db36d517721b423c2e9b049.setContent(html_358782a1bc61c095f45a47f7e5c2d4d2);\n            \n        \n\n        circle_5acbebe906d2e926a06cc4e4bb7024d5.bindPopup(popup_fb4973df4db36d517721b423c2e9b049)\n        ;\n\n        \n    \n    \n            var circle_0587c17f8aa205bc398d9d3ae796f78d = L.circle(\n                [34.63283416, -120.6107455],\n                {&quot;bubblingMouseEvents&quot;: true, &quot;color&quot;: &quot;#000000&quot;, &quot;dashArray&quot;: null, &quot;dashOffset&quot;: null, &quot;fill&quot;: true, &quot;fillColor&quot;: &quot;#000000&quot;, &quot;fillOpacity&quot;: 0.2, &quot;fillRule&quot;: &quot;evenodd&quot;, &quot;lineCap&quot;: &quot;round&quot;, &quot;lineJoin&quot;: &quot;round&quot;, &quot;opacity&quot;: 1.0, &quot;radius&quot;: 1000, &quot;stroke&quot;: true, &quot;weight&quot;: 3}\n            ).addTo(feature_group_fa8e2411882f14d9e68f338927d10338);\n        \n    \n        var popup_163ee2706f8623a99dce35a3cc82a11a = L.popup({\n  &quot;maxWidth&quot;: &quot;100%&quot;,\n});\n\n        \n            \n                var html_f3e974a14a25282ac627d9be151366f5 = $(`&lt;div id=&quot;html_f3e974a14a25282ac627d9be151366f5&quot; style=&quot;width: 100.0%; height: 100.0%;&quot;&gt;VAFB SLC-4E&lt;/div&gt;`)[0];\n                popup_163ee2706f8623a99dce35a3cc82a11a.setContent(html_f3e974a14a25282ac627d9be151366f5);\n            \n        \n\n        circle_0587c17f8aa205bc398d9d3ae796f78d.bindPopup(popup_163ee2706f8623a99dce35a3cc82a11a)\n        ;\n\n        \n    \n    \n            feature_group_fa8e2411882f14d9e68f338927d10338.addTo(map_1e2c00c0be9c316a1621ebc0ac7e5d45);\n        \n    \n            var feature_group_f60354a15b6c5ad155875912d876005d = L.featureGroup(\n                {\n}\n            );\n        \n    \n            var marker_7d5126bf2ca637bb883878b945662c64 = L.marker(\n                [28.56230197, -80.57735648],\n                {\n}\n            ).addTo(feature_group_f60354a15b6c5ad155875912d876005d);\n        \n    \n            var div_icon_5078af8ee6f00e757b46880fd46d25e4 = L.divIcon({\n  &quot;html&quot;: &quot;\\u003cdiv style=\\&quot;font-size: 12; color:#d35400;\\&quot;\\u003e\\u003cb\\u003eCCAFS LC-40\\u003c/b\\u003e\\u003c/div\\u003e&quot;,\n  &quot;iconSize&quot;: [20, 20],\n  &quot;iconAnchor&quot;: [0, 0],\n  &quot;className&quot;: &quot;empty&quot;,\n});\n            marker_7d5126bf2ca637bb883878b945662c64.setIcon(div_icon_5078af8ee6f00e757b46880fd46d25e4);\n        \n    \n                marker_7d5126bf2ca637bb883878b945662c64.setIcon(div_icon_5078af8ee6f00e757b46880fd46d25e4);\n            \n    \n            var marker_3de74d1d9903a686d2e915254c542148 = L.marker(\n                [28.56319718, -80.57682003],\n                {\n}\n            ).addTo(feature_group_f60354a15b6c5ad155875912d876005d);\n        \n    \n            var div_icon_2563fd1d3c1b403ac3559c18d76b8342 = L.divIcon({\n  &quot;html&quot;: &quot;\\u003cdiv style=\\&quot;font-size: 12; color:#d35400;\\&quot;\\u003e\\u003cb\\u003eCCAFS SLC-40\\u003c/b\\u003e\\u003c/div\\u003e&quot;,\n  &quot;iconSize&quot;: [20, 20],\n  &quot;iconAnchor&quot;: [0, 0],\n  &quot;className&quot;: &quot;empty&quot;,\n});\n            marker_3de74d1d9903a686d2e915254c542148.setIcon(div_icon_2563fd1d3c1b403ac3559c18d76b8342);\n        \n    \n                marker_3de74d1d9903a686d2e915254c542148.setIcon(div_icon_2563fd1d3c1b403ac3559c18d76b8342);\n            \n    \n            var marker_e15d03d0aeb300b53c58214106de8099 = L.marker(\n                [28.57325457, -80.64689529],\n                {\n}\n            ).addTo(feature_group_f60354a15b6c5ad155875912d876005d);\n        \n    \n            var div_icon_f51148168c30f230d05ee604d18868e5 = L.divIcon({\n  &quot;html&quot;: &quot;\\u003cdiv style=\\&quot;font-size: 12; color:#d35400;\\&quot;\\u003e\\u003cb\\u003eKSC LC-39A\\u003c/b\\u003e\\u003c/div\\u003e&quot;,\n  &quot;iconSize&quot;: [20, 20],\n  &quot;iconAnchor&quot;: [0, 0],\n  &quot;className&quot;: &quot;empty&quot;,\n});\n            marker_e15d03d0aeb300b53c58214106de8099.setIcon(div_icon_f51148168c30f230d05ee604d18868e5);\n        \n    \n                marker_e15d03d0aeb300b53c58214106de8099.setIcon(div_icon_f51148168c30f230d05ee604d18868e5);\n            \n    \n            var marker_b7c794f6d5ff7504767d65d16c509a6b = L.marker(\n                [34.63283416, -120.6107455],\n                {\n}\n            ).addTo(feature_group_f60354a15b6c5ad155875912d876005d);\n        \n    \n            var div_icon_884502e2b18d38a36356d17e1fccea70 = L.divIcon({\n  &quot;html&quot;: &quot;\\u003cdiv style=\\&quot;font-size: 12; color:#d35400;\\&quot;\\u003e\\u003cb\\u003eVAFB SLC-4E\\u003c/b\\u003e\\u003c/div\\u003e&quot;,\n  &quot;iconSize&quot;: [20, 20],\n  &quot;iconAnchor&quot;: [0, 0],\n  &quot;className&quot;: &quot;empty&quot;,\n});\n            marker_b7c794f6d5ff7504767d65d16c509a6b.setIcon(div_icon_884502e2b18d38a36356d17e1fccea70);\n        \n    \n                marker_b7c794f6d5ff7504767d65d16c509a6b.setIcon(div_icon_884502e2b18d38a36356d17e1fccea70);\n            \n    \n            feature_group_f60354a15b6c5ad155875912d876005d.addTo(map_1e2c00c0be9c316a1621ebc0ac7e5d45);\n        \n    \n            tile_layer_b112c9577b06ff545c623e3514613dee.addTo(map_1e2c00c0be9c316a1621ebc0ac7e5d45);\n        \n    \n            feature_group_fa8e2411882f14d9e68f338927d10338.addTo(map_1e2c00c0be9c316a1621ebc0ac7e5d45);\n        \n    \n                marker_7d5126bf2ca637bb883878b945662c64.setIcon(div_icon_5078af8ee6f00e757b46880fd46d25e4);\n            \n    \n                marker_3de74d1d9903a686d2e915254c542148.setIcon(div_icon_2563fd1d3c1b403ac3559c18d76b8342);\n            \n    \n                marker_e15d03d0aeb300b53c58214106de8099.setIcon(div_icon_f51148168c30f230d05ee604d18868e5);\n            \n    \n                marker_b7c794f6d5ff7504767d65d16c509a6b.setIcon(div_icon_884502e2b18d38a36356d17e1fccea70);\n            \n    \n            feature_group_f60354a15b6c5ad155875912d876005d.addTo(map_1e2c00c0be9c316a1621ebc0ac7e5d45);\n        \n    \n            var marker_cluster_f04c52fc31c7cb56403a346c16f517c3 = L.markerClusterGroup(\n                {\n}\n            );\n        \n    \n            var marker_9d141b045cb578d86034914a3caec674 = L.marker(\n                [28.56230197, -80.57735648],\n                {\n  &quot;color&quot;: &quot;red&quot;,\n}\n            ).addTo(marker_cluster_f04c52fc31c7cb56403a346c16f517c3);\n        \n    \n            var icon_caec9279abca5375a5afe103fbbd2ae9 = L.AwesomeMarkers.icon(\n                {\n  &quot;markerColor&quot;: &quot;red&quot;,\n  &quot;iconColor&quot;: &quot;white&quot;,\n  &quot;icon&quot;: &quot;info-sign&quot;,\n  &quot;prefix&quot;: &quot;glyphicon&quot;,\n  &quot;extraClasses&quot;: &quot;fa-rotate-0&quot;,\n}\n            );\n        \n    \n                marker_9d141b045cb578d86034914a3caec674.setIcon(icon_caec9279abca5375a5afe103fbbd2ae9);\n            \n    \n            var marker_514abf8d36590b81e8766b6ef5023131 = L.marker(\n                [28.56230197, -80.57735648],\n                {\n  &quot;color&quot;: &quot;red&quot;,\n}\n            ).addTo(marker_cluster_f04c52fc31c7cb56403a346c16f517c3);\n        \n    \n            var icon_0711322e7e046a59ac6b293e26a7be9c = L.AwesomeMarkers.icon(\n                {\n  &quot;markerColor&quot;: &quot;red&quot;,\n  &quot;iconColor&quot;: &quot;white&quot;,\n  &quot;icon&quot;: &quot;info-sign&quot;,\n  &quot;prefix&quot;: &quot;glyphicon&quot;,\n  &quot;extraClasses&quot;: &quot;fa-rotate-0&quot;,\n}\n            );\n        \n    \n                marker_514abf8d36590b81e8766b6ef5023131.setIcon(icon_0711322e7e046a59ac6b293e26a7be9c);\n            \n    \n            var marker_6675958728b8b1064c11557519b9d972 = L.marker(\n                [28.56230197, -80.57735648],\n                {\n  &quot;color&quot;: &quot;red&quot;,\n}\n            ).addTo(marker_cluster_f04c52fc31c7cb56403a346c16f517c3);\n        \n    \n            var icon_b9fe4476716c3cc015eb022f25bce0a1 = L.AwesomeMarkers.icon(\n                {\n  &quot;markerColor&quot;: &quot;red&quot;,\n  &quot;iconColor&quot;: &quot;white&quot;,\n  &quot;icon&quot;: &quot;info-sign&quot;,\n  &quot;prefix&quot;: &quot;glyphicon&quot;,\n  &quot;extraClasses&quot;: &quot;fa-rotate-0&quot;,\n}\n            );\n        \n    \n                marker_6675958728b8b1064c11557519b9d972.setIcon(icon_b9fe4476716c3cc015eb022f25bce0a1);\n            \n    \n            var marker_b9f239dbfde3f0c5b35ef0ddd4bc71d6 = L.marker(\n                [28.56230197, -80.57735648],\n                {\n  &quot;color&quot;: &quot;red&quot;,\n}\n            ).addTo(marker_cluster_f04c52fc31c7cb56403a346c16f517c3);\n        \n    \n            var icon_a9a27c6b5019abcb370828005302cc01 = L.AwesomeMarkers.icon(\n                {\n  &quot;markerColor&quot;: &quot;red&quot;,\n  &quot;iconColor&quot;: &quot;white&quot;,\n  &quot;icon&quot;: &quot;info-sign&quot;,\n  &quot;prefix&quot;: &quot;glyphicon&quot;,\n  &quot;extraClasses&quot;: &quot;fa-rotate-0&quot;,\n}\n            );\n        \n    \n                marker_b9f239dbfde3f0c5b35ef0ddd4bc71d6.setIcon(icon_a9a27c6b5019abcb370828005302cc01);\n            \n    \n            var marker_87bc3948254a288e732f166412e1face = L.marker(\n                [28.56230197, -80.57735648],\n                {\n  &quot;color&quot;: &quot;red&quot;,\n}\n            ).addTo(marker_cluster_f04c52fc31c7cb56403a346c16f517c3);\n        \n    \n            var icon_281793a3a8ba7b1fabc8a583a6ae0af6 = L.AwesomeMarkers.icon(\n                {\n  &quot;markerColor&quot;: &quot;red&quot;,\n  &quot;iconColor&quot;: &quot;white&quot;,\n  &quot;icon&quot;: &quot;info-sign&quot;,\n  &quot;prefix&quot;: &quot;glyphicon&quot;,\n  &quot;extraClasses&quot;: &quot;fa-rotate-0&quot;,\n}\n            );\n        \n    \n                marker_87bc3948254a288e732f166412e1face.setIcon(icon_281793a3a8ba7b1fabc8a583a6ae0af6);\n            \n    \n            var marker_20c1455c23256324e38f81427de0fa9f = L.marker(\n                [28.56230197, -80.57735648],\n                {\n  &quot;color&quot;: &quot;red&quot;,\n}\n            ).addTo(marker_cluster_f04c52fc31c7cb56403a346c16f517c3);\n        \n    \n            var icon_c0a48c2fb44515d14959002f57317092 = L.AwesomeMarkers.icon(\n                {\n  &quot;markerColor&quot;: &quot;red&quot;,\n  &quot;iconColor&quot;: &quot;white&quot;,\n  &quot;icon&quot;: &quot;info-sign&quot;,\n  &quot;prefix&quot;: &quot;glyphicon&quot;,\n  &quot;extraClasses&quot;: &quot;fa-rotate-0&quot;,\n}\n            );\n        \n    \n                marker_20c1455c23256324e38f81427de0fa9f.setIcon(icon_c0a48c2fb44515d14959002f57317092);\n            \n    \n            var marker_ba4cd89da6b7bde40a237c555a517642 = L.marker(\n                [28.56230197, -80.57735648],\n                {\n  &quot;color&quot;: &quot;red&quot;,\n}\n            ).addTo(marker_cluster_f04c52fc31c7cb56403a346c16f517c3);\n        \n    \n            var icon_7fb3028d8115700bc175983cc61eab60 = L.AwesomeMarkers.icon(\n                {\n  &quot;markerColor&quot;: &quot;red&quot;,\n  &quot;iconColor&quot;: &quot;white&quot;,\n  &quot;icon&quot;: &quot;info-sign&quot;,\n  &quot;prefix&quot;: &quot;glyphicon&quot;,\n  &quot;extraClasses&quot;: &quot;fa-rotate-0&quot;,\n}\n            );\n        \n    \n                marker_ba4cd89da6b7bde40a237c555a517642.setIcon(icon_7fb3028d8115700bc175983cc61eab60);\n            \n    \n            var marker_2b1d4f26ffba016cfedbfa8baa37eec1 = L.marker(\n                [28.56230197, -80.57735648],\n                {\n  &quot;color&quot;: &quot;red&quot;,\n}\n            ).addTo(marker_cluster_f04c52fc31c7cb56403a346c16f517c3);\n        \n    \n            var icon_0a16f9ea8867d02c2531afc1a6a0df38 = L.AwesomeMarkers.icon(\n                {\n  &quot;markerColor&quot;: &quot;red&quot;,\n  &quot;iconColor&quot;: &quot;white&quot;,\n  &quot;icon&quot;: &quot;info-sign&quot;,\n  &quot;prefix&quot;: &quot;glyphicon&quot;,\n  &quot;extraClasses&quot;: &quot;fa-rotate-0&quot;,\n}\n            );\n        \n    \n                marker_2b1d4f26ffba016cfedbfa8baa37eec1.setIcon(icon_0a16f9ea8867d02c2531afc1a6a0df38);\n            \n    \n            var marker_cc6762485a2a3f383e9d806dc7cd6e94 = L.marker(\n                [28.56230197, -80.57735648],\n                {\n  &quot;color&quot;: &quot;red&quot;,\n}\n            ).addTo(marker_cluster_f04c52fc31c7cb56403a346c16f517c3);\n        \n    \n            var icon_c5a26c76b8847fc79617f93af58435f7 = L.AwesomeMarkers.icon(\n                {\n  &quot;markerColor&quot;: &quot;red&quot;,\n  &quot;iconColor&quot;: &quot;white&quot;,\n  &quot;icon&quot;: &quot;info-sign&quot;,\n  &quot;prefix&quot;: &quot;glyphicon&quot;,\n  &quot;extraClasses&quot;: &quot;fa-rotate-0&quot;,\n}\n            );\n        \n    \n                marker_cc6762485a2a3f383e9d806dc7cd6e94.setIcon(icon_c5a26c76b8847fc79617f93af58435f7);\n            \n    \n            var marker_b58d292789cddfcf356804247d6dd05c = L.marker(\n                [28.56230197, -80.57735648],\n                {\n  &quot;color&quot;: &quot;red&quot;,\n}\n            ).addTo(marker_cluster_f04c52fc31c7cb56403a346c16f517c3);\n        \n    \n            var icon_a7182ca36471eec2883f117d2e38cb7b = L.AwesomeMarkers.icon(\n                {\n  &quot;markerColor&quot;: &quot;red&quot;,\n  &quot;iconColor&quot;: &quot;white&quot;,\n  &quot;icon&quot;: &quot;info-sign&quot;,\n  &quot;prefix&quot;: &quot;glyphicon&quot;,\n  &quot;extraClasses&quot;: &quot;fa-rotate-0&quot;,\n}\n            );\n        \n    \n                marker_b58d292789cddfcf356804247d6dd05c.setIcon(icon_a7182ca36471eec2883f117d2e38cb7b);\n            \n    \n            var marker_a124642292dea1ef448ea8c0f5d0bf9f = L.marker(\n                [28.56230197, -80.57735648],\n                {\n  &quot;color&quot;: &quot;red&quot;,\n}\n            ).addTo(marker_cluster_f04c52fc31c7cb56403a346c16f517c3);\n        \n    \n            var icon_1600afb3170218021761997cd4b29c80 = L.AwesomeMarkers.icon(\n                {\n  &quot;markerColor&quot;: &quot;red&quot;,\n  &quot;iconColor&quot;: &quot;white&quot;,\n  &quot;icon&quot;: &quot;info-sign&quot;,\n  &quot;prefix&quot;: &quot;glyphicon&quot;,\n  &quot;extraClasses&quot;: &quot;fa-rotate-0&quot;,\n}\n            );\n        \n    \n                marker_a124642292dea1ef448ea8c0f5d0bf9f.setIcon(icon_1600afb3170218021761997cd4b29c80);\n            \n    \n            var marker_d55b680749c7fee7e69b08145b14c463 = L.marker(\n                [28.56230197, -80.57735648],\n                {\n  &quot;color&quot;: &quot;red&quot;,\n}\n            ).addTo(marker_cluster_f04c52fc31c7cb56403a346c16f517c3);\n        \n    \n            var icon_4bd7c135b77dfac357dadabda5e18b73 = L.AwesomeMarkers.icon(\n                {\n  &quot;markerColor&quot;: &quot;red&quot;,\n  &quot;iconColor&quot;: &quot;white&quot;,\n  &quot;icon&quot;: &quot;info-sign&quot;,\n  &quot;prefix&quot;: &quot;glyphicon&quot;,\n  &quot;extraClasses&quot;: &quot;fa-rotate-0&quot;,\n}\n            );\n        \n    \n                marker_d55b680749c7fee7e69b08145b14c463.setIcon(icon_4bd7c135b77dfac357dadabda5e18b73);\n            \n    \n            var marker_3377fba186c724ae8d7c43c69d2a0a3c = L.marker(\n                [28.56230197, -80.57735648],\n                {\n  &quot;color&quot;: &quot;red&quot;,\n}\n            ).addTo(marker_cluster_f04c52fc31c7cb56403a346c16f517c3);\n        \n    \n            var icon_bec0a735854c029a80a7a62d81577f9e = L.AwesomeMarkers.icon(\n                {\n  &quot;markerColor&quot;: &quot;red&quot;,\n  &quot;iconColor&quot;: &quot;white&quot;,\n  &quot;icon&quot;: &quot;info-sign&quot;,\n  &quot;prefix&quot;: &quot;glyphicon&quot;,\n  &quot;extraClasses&quot;: &quot;fa-rotate-0&quot;,\n}\n            );\n        \n    \n                marker_3377fba186c724ae8d7c43c69d2a0a3c.setIcon(icon_bec0a735854c029a80a7a62d81577f9e);\n            \n    \n            var marker_d7d7ac967f23585f3ee6d7cd1fd3df0e = L.marker(\n                [28.56230197, -80.57735648],\n                {\n  &quot;color&quot;: &quot;red&quot;,\n}\n            ).addTo(marker_cluster_f04c52fc31c7cb56403a346c16f517c3);\n        \n    \n            var icon_13564d6c8731e1c12d5ec4a8079a7366 = L.AwesomeMarkers.icon(\n                {\n  &quot;markerColor&quot;: &quot;red&quot;,\n  &quot;iconColor&quot;: &quot;white&quot;,\n  &quot;icon&quot;: &quot;info-sign&quot;,\n  &quot;prefix&quot;: &quot;glyphicon&quot;,\n  &quot;extraClasses&quot;: &quot;fa-rotate-0&quot;,\n}\n            );\n        \n    \n                marker_d7d7ac967f23585f3ee6d7cd1fd3df0e.setIcon(icon_13564d6c8731e1c12d5ec4a8079a7366);\n            \n    \n            var marker_5b7c39a681982844edccff7f32fdd38c = L.marker(\n                [28.56230197, -80.57735648],\n                {\n  &quot;color&quot;: &quot;red&quot;,\n}\n            ).addTo(marker_cluster_f04c52fc31c7cb56403a346c16f517c3);\n        \n    \n            var icon_61499959c71fc28cbda52d8d291769a8 = L.AwesomeMarkers.icon(\n                {\n  &quot;markerColor&quot;: &quot;red&quot;,\n  &quot;iconColor&quot;: &quot;white&quot;,\n  &quot;icon&quot;: &quot;info-sign&quot;,\n  &quot;prefix&quot;: &quot;glyphicon&quot;,\n  &quot;extraClasses&quot;: &quot;fa-rotate-0&quot;,\n}\n            );\n        \n    \n                marker_5b7c39a681982844edccff7f32fdd38c.setIcon(icon_61499959c71fc28cbda52d8d291769a8);\n            \n    \n            var marker_0574ca30e3bef2dd39fc106ed7ff88ee = L.marker(\n                [28.56230197, -80.57735648],\n                {\n  &quot;color&quot;: &quot;red&quot;,\n}\n            ).addTo(marker_cluster_f04c52fc31c7cb56403a346c16f517c3);\n        \n    \n            var icon_3061215881b67f1c1c33588b06327a0d = L.AwesomeMarkers.icon(\n                {\n  &quot;markerColor&quot;: &quot;red&quot;,\n  &quot;iconColor&quot;: &quot;white&quot;,\n  &quot;icon&quot;: &quot;info-sign&quot;,\n  &quot;prefix&quot;: &quot;glyphicon&quot;,\n  &quot;extraClasses&quot;: &quot;fa-rotate-0&quot;,\n}\n            );\n        \n    \n                marker_0574ca30e3bef2dd39fc106ed7ff88ee.setIcon(icon_3061215881b67f1c1c33588b06327a0d);\n            \n    \n            var marker_5ee91eff72fd51dddf920f8a1f7b3666 = L.marker(\n                [28.56230197, -80.57735648],\n                {\n  &quot;color&quot;: &quot;red&quot;,\n}\n            ).addTo(marker_cluster_f04c52fc31c7cb56403a346c16f517c3);\n        \n    \n            var icon_b1f3f4587629a172fa4702d30340e9bd = L.AwesomeMarkers.icon(\n                {\n  &quot;markerColor&quot;: &quot;red&quot;,\n  &quot;iconColor&quot;: &quot;white&quot;,\n  &quot;icon&quot;: &quot;info-sign&quot;,\n  &quot;prefix&quot;: &quot;glyphicon&quot;,\n  &quot;extraClasses&quot;: &quot;fa-rotate-0&quot;,\n}\n            );\n        \n    \n                marker_5ee91eff72fd51dddf920f8a1f7b3666.setIcon(icon_b1f3f4587629a172fa4702d30340e9bd);\n            \n    \n            var marker_b75a4c374951abef3522feaa522ed807 = L.marker(\n                [28.56230197, -80.57735648],\n                {\n  &quot;color&quot;: &quot;green&quot;,\n}\n            ).addTo(marker_cluster_f04c52fc31c7cb56403a346c16f517c3);\n        \n    \n            var icon_0acd68aa05c926b1635c637031348c39 = L.AwesomeMarkers.icon(\n                {\n  &quot;markerColor&quot;: &quot;green&quot;,\n  &quot;iconColor&quot;: &quot;white&quot;,\n  &quot;icon&quot;: &quot;info-sign&quot;,\n  &quot;prefix&quot;: &quot;glyphicon&quot;,\n  &quot;extraClasses&quot;: &quot;fa-rotate-0&quot;,\n}\n            );\n        \n    \n                marker_b75a4c374951abef3522feaa522ed807.setIcon(icon_0acd68aa05c926b1635c637031348c39);\n            \n    \n            var marker_b3abf4648abfbe7dbea9e1b5f788a416 = L.marker(\n                [28.56230197, -80.57735648],\n                {\n  &quot;color&quot;: &quot;green&quot;,\n}\n            ).addTo(marker_cluster_f04c52fc31c7cb56403a346c16f517c3);\n        \n    \n            var icon_79323ad45c0337508e132d2cdd57b0b6 = L.AwesomeMarkers.icon(\n                {\n  &quot;markerColor&quot;: &quot;green&quot;,\n  &quot;iconColor&quot;: &quot;white&quot;,\n  &quot;icon&quot;: &quot;info-sign&quot;,\n  &quot;prefix&quot;: &quot;glyphicon&quot;,\n  &quot;extraClasses&quot;: &quot;fa-rotate-0&quot;,\n}\n            );\n        \n    \n                marker_b3abf4648abfbe7dbea9e1b5f788a416.setIcon(icon_79323ad45c0337508e132d2cdd57b0b6);\n            \n    \n            var marker_393e837b4cd4c13a35095d3fc1fc93bb = L.marker(\n                [28.56230197, -80.57735648],\n                {\n  &quot;color&quot;: &quot;red&quot;,\n}\n            ).addTo(marker_cluster_f04c52fc31c7cb56403a346c16f517c3);\n        \n    \n            var icon_86fa98251452740933c083ec998df09c = L.AwesomeMarkers.icon(\n                {\n  &quot;markerColor&quot;: &quot;red&quot;,\n  &quot;iconColor&quot;: &quot;white&quot;,\n  &quot;icon&quot;: &quot;info-sign&quot;,\n  &quot;prefix&quot;: &quot;glyphicon&quot;,\n  &quot;extraClasses&quot;: &quot;fa-rotate-0&quot;,\n}\n            );\n        \n    \n                marker_393e837b4cd4c13a35095d3fc1fc93bb.setIcon(icon_86fa98251452740933c083ec998df09c);\n            \n    \n            var marker_a770388dafe977ba0c922efc565b2015 = L.marker(\n                [28.56230197, -80.57735648],\n                {\n  &quot;color&quot;: &quot;green&quot;,\n}\n            ).addTo(marker_cluster_f04c52fc31c7cb56403a346c16f517c3);\n        \n    \n            var icon_1853fcd61f86f60eb21ec773d87af83f = L.AwesomeMarkers.icon(\n                {\n  &quot;markerColor&quot;: &quot;green&quot;,\n  &quot;iconColor&quot;: &quot;white&quot;,\n  &quot;icon&quot;: &quot;info-sign&quot;,\n  &quot;prefix&quot;: &quot;glyphicon&quot;,\n  &quot;extraClasses&quot;: &quot;fa-rotate-0&quot;,\n}\n            );\n        \n    \n                marker_a770388dafe977ba0c922efc565b2015.setIcon(icon_1853fcd61f86f60eb21ec773d87af83f);\n            \n    \n            var marker_d0328d33d4ab3240c93a0a7263621055 = L.marker(\n                [28.56230197, -80.57735648],\n                {\n  &quot;color&quot;: &quot;green&quot;,\n}\n            ).addTo(marker_cluster_f04c52fc31c7cb56403a346c16f517c3);\n        \n    \n            var icon_5717d97e848ce7d717688bbb04a21956 = L.AwesomeMarkers.icon(\n                {\n  &quot;markerColor&quot;: &quot;green&quot;,\n  &quot;iconColor&quot;: &quot;white&quot;,\n  &quot;icon&quot;: &quot;info-sign&quot;,\n  &quot;prefix&quot;: &quot;glyphicon&quot;,\n  &quot;extraClasses&quot;: &quot;fa-rotate-0&quot;,\n}\n            );\n        \n    \n                marker_d0328d33d4ab3240c93a0a7263621055.setIcon(icon_5717d97e848ce7d717688bbb04a21956);\n            \n    \n            var marker_195751f5cacad51982d1331613532a00 = L.marker(\n                [28.56230197, -80.57735648],\n                {\n  &quot;color&quot;: &quot;green&quot;,\n}\n            ).addTo(marker_cluster_f04c52fc31c7cb56403a346c16f517c3);\n        \n    \n            var icon_112c23efc6a50820f2fce9297d94e137 = L.AwesomeMarkers.icon(\n                {\n  &quot;markerColor&quot;: &quot;green&quot;,\n  &quot;iconColor&quot;: &quot;white&quot;,\n  &quot;icon&quot;: &quot;info-sign&quot;,\n  &quot;prefix&quot;: &quot;glyphicon&quot;,\n  &quot;extraClasses&quot;: &quot;fa-rotate-0&quot;,\n}\n            );\n        \n    \n                marker_195751f5cacad51982d1331613532a00.setIcon(icon_112c23efc6a50820f2fce9297d94e137);\n            \n    \n            var marker_21f8f23b4e535307a08153150610e166 = L.marker(\n                [28.56230197, -80.57735648],\n                {\n  &quot;color&quot;: &quot;red&quot;,\n}\n            ).addTo(marker_cluster_f04c52fc31c7cb56403a346c16f517c3);\n        \n    \n            var icon_d0494a73c24cc16655de3d6e9b11ff2b = L.AwesomeMarkers.icon(\n                {\n  &quot;markerColor&quot;: &quot;red&quot;,\n  &quot;iconColor&quot;: &quot;white&quot;,\n  &quot;icon&quot;: &quot;info-sign&quot;,\n  &quot;prefix&quot;: &quot;glyphicon&quot;,\n  &quot;extraClasses&quot;: &quot;fa-rotate-0&quot;,\n}\n            );\n        \n    \n                marker_21f8f23b4e535307a08153150610e166.setIcon(icon_d0494a73c24cc16655de3d6e9b11ff2b);\n            \n    \n            var marker_bbbc489acebd95d12f57cec919fc7245 = L.marker(\n                [28.56230197, -80.57735648],\n                {\n  &quot;color&quot;: &quot;green&quot;,\n}\n            ).addTo(marker_cluster_f04c52fc31c7cb56403a346c16f517c3);\n        \n    \n            var icon_02017e2aeff319c87894b60f05065129 = L.AwesomeMarkers.icon(\n                {\n  &quot;markerColor&quot;: &quot;green&quot;,\n  &quot;iconColor&quot;: &quot;white&quot;,\n  &quot;icon&quot;: &quot;info-sign&quot;,\n  &quot;prefix&quot;: &quot;glyphicon&quot;,\n  &quot;extraClasses&quot;: &quot;fa-rotate-0&quot;,\n}\n            );\n        \n    \n                marker_bbbc489acebd95d12f57cec919fc7245.setIcon(icon_02017e2aeff319c87894b60f05065129);\n            \n    \n            var marker_e3b284c3a541e9518586046c74cb34d4 = L.marker(\n                [28.56230197, -80.57735648],\n                {\n  &quot;color&quot;: &quot;green&quot;,\n}\n            ).addTo(marker_cluster_f04c52fc31c7cb56403a346c16f517c3);\n        \n    \n            var icon_6420cbea43e96a40da10ce9f570463a8 = L.AwesomeMarkers.icon(\n                {\n  &quot;markerColor&quot;: &quot;green&quot;,\n  &quot;iconColor&quot;: &quot;white&quot;,\n  &quot;icon&quot;: &quot;info-sign&quot;,\n  &quot;prefix&quot;: &quot;glyphicon&quot;,\n  &quot;extraClasses&quot;: &quot;fa-rotate-0&quot;,\n}\n            );\n        \n    \n                marker_e3b284c3a541e9518586046c74cb34d4.setIcon(icon_6420cbea43e96a40da10ce9f570463a8);\n            \n    \n            var marker_78fb7d5fc029586c8635e7ce3c2eb78c = L.marker(\n                [34.63283416, -120.6107455],\n                {\n  &quot;color&quot;: &quot;red&quot;,\n}\n            ).addTo(marker_cluster_f04c52fc31c7cb56403a346c16f517c3);\n        \n    \n            var icon_8e069f4786b7a6ce7ed4f69e32d2cc39 = L.AwesomeMarkers.icon(\n                {\n  &quot;markerColor&quot;: &quot;red&quot;,\n  &quot;iconColor&quot;: &quot;white&quot;,\n  &quot;icon&quot;: &quot;info-sign&quot;,\n  &quot;prefix&quot;: &quot;glyphicon&quot;,\n  &quot;extraClasses&quot;: &quot;fa-rotate-0&quot;,\n}\n            );\n        \n    \n                marker_78fb7d5fc029586c8635e7ce3c2eb78c.setIcon(icon_8e069f4786b7a6ce7ed4f69e32d2cc39);\n            \n    \n            var marker_9ecdd40ac8f285b4385d669b50e92b13 = L.marker(\n                [34.63283416, -120.6107455],\n                {\n  &quot;color&quot;: &quot;red&quot;,\n}\n            ).addTo(marker_cluster_f04c52fc31c7cb56403a346c16f517c3);\n        \n    \n            var icon_170d49286e990bac20b90524c94c7845 = L.AwesomeMarkers.icon(\n                {\n  &quot;markerColor&quot;: &quot;red&quot;,\n  &quot;iconColor&quot;: &quot;white&quot;,\n  &quot;icon&quot;: &quot;info-sign&quot;,\n  &quot;prefix&quot;: &quot;glyphicon&quot;,\n  &quot;extraClasses&quot;: &quot;fa-rotate-0&quot;,\n}\n            );\n        \n    \n                marker_9ecdd40ac8f285b4385d669b50e92b13.setIcon(icon_170d49286e990bac20b90524c94c7845);\n            \n    \n            var marker_d69455d8103956b713752ba402aca033 = L.marker(\n                [34.63283416, -120.6107455],\n                {\n  &quot;color&quot;: &quot;green&quot;,\n}\n            ).addTo(marker_cluster_f04c52fc31c7cb56403a346c16f517c3);\n        \n    \n            var icon_081bb0f3127201c3bfe0db04db38bbac = L.AwesomeMarkers.icon(\n                {\n  &quot;markerColor&quot;: &quot;green&quot;,\n  &quot;iconColor&quot;: &quot;white&quot;,\n  &quot;icon&quot;: &quot;info-sign&quot;,\n  &quot;prefix&quot;: &quot;glyphicon&quot;,\n  &quot;extraClasses&quot;: &quot;fa-rotate-0&quot;,\n}\n            );\n        \n    \n                marker_d69455d8103956b713752ba402aca033.setIcon(icon_081bb0f3127201c3bfe0db04db38bbac);\n            \n    \n            var marker_e09abce0a3002095c20f7e68c2cbf48b = L.marker(\n                [34.63283416, -120.6107455],\n                {\n  &quot;color&quot;: &quot;green&quot;,\n}\n            ).addTo(marker_cluster_f04c52fc31c7cb56403a346c16f517c3);\n        \n    \n            var icon_0bcc0aaeb645e6aaa259b685b91cae38 = L.AwesomeMarkers.icon(\n                {\n  &quot;markerColor&quot;: &quot;green&quot;,\n  &quot;iconColor&quot;: &quot;white&quot;,\n  &quot;icon&quot;: &quot;info-sign&quot;,\n  &quot;prefix&quot;: &quot;glyphicon&quot;,\n  &quot;extraClasses&quot;: &quot;fa-rotate-0&quot;,\n}\n            );\n        \n    \n                marker_e09abce0a3002095c20f7e68c2cbf48b.setIcon(icon_0bcc0aaeb645e6aaa259b685b91cae38);\n            \n    \n            var marker_57dd4be43c0b82eec84b5eabec0b6831 = L.marker(\n                [34.63283416, -120.6107455],\n                {\n  &quot;color&quot;: &quot;green&quot;,\n}\n            ).addTo(marker_cluster_f04c52fc31c7cb56403a346c16f517c3);\n        \n    \n            var icon_8b2dc187c007e386af4a7313d9904e04 = L.AwesomeMarkers.icon(\n                {\n  &quot;markerColor&quot;: &quot;green&quot;,\n  &quot;iconColor&quot;: &quot;white&quot;,\n  &quot;icon&quot;: &quot;info-sign&quot;,\n  &quot;prefix&quot;: &quot;glyphicon&quot;,\n  &quot;extraClasses&quot;: &quot;fa-rotate-0&quot;,\n}\n            );\n        \n    \n                marker_57dd4be43c0b82eec84b5eabec0b6831.setIcon(icon_8b2dc187c007e386af4a7313d9904e04);\n            \n    \n            var marker_c8b738815a742a9102d37ed4b45f90af = L.marker(\n                [34.63283416, -120.6107455],\n                {\n  &quot;color&quot;: &quot;green&quot;,\n}\n            ).addTo(marker_cluster_f04c52fc31c7cb56403a346c16f517c3);\n        \n    \n            var icon_c1eaf6793a0ac69502a5397e48574dc4 = L.AwesomeMarkers.icon(\n                {\n  &quot;markerColor&quot;: &quot;green&quot;,\n  &quot;iconColor&quot;: &quot;white&quot;,\n  &quot;icon&quot;: &quot;info-sign&quot;,\n  &quot;prefix&quot;: &quot;glyphicon&quot;,\n  &quot;extraClasses&quot;: &quot;fa-rotate-0&quot;,\n}\n            );\n        \n    \n                marker_c8b738815a742a9102d37ed4b45f90af.setIcon(icon_c1eaf6793a0ac69502a5397e48574dc4);\n            \n    \n            var marker_debe02ebd7a65d77e5d5135fb9d69df4 = L.marker(\n                [34.63283416, -120.6107455],\n                {\n  &quot;color&quot;: &quot;red&quot;,\n}\n            ).addTo(marker_cluster_f04c52fc31c7cb56403a346c16f517c3);\n        \n    \n            var icon_3f3b1000a377806c04268bbffd152a6f = L.AwesomeMarkers.icon(\n                {\n  &quot;markerColor&quot;: &quot;red&quot;,\n  &quot;iconColor&quot;: &quot;white&quot;,\n  &quot;icon&quot;: &quot;info-sign&quot;,\n  &quot;prefix&quot;: &quot;glyphicon&quot;,\n  &quot;extraClasses&quot;: &quot;fa-rotate-0&quot;,\n}\n            );\n        \n    \n                marker_debe02ebd7a65d77e5d5135fb9d69df4.setIcon(icon_3f3b1000a377806c04268bbffd152a6f);\n            \n    \n            var marker_14b9003210f5995664bb96fdf4945f94 = L.marker(\n                [34.63283416, -120.6107455],\n                {\n  &quot;color&quot;: &quot;red&quot;,\n}\n            ).addTo(marker_cluster_f04c52fc31c7cb56403a346c16f517c3);\n        \n    \n            var icon_3afaf1d99e7598f67ce764969a1460d7 = L.AwesomeMarkers.icon(\n                {\n  &quot;markerColor&quot;: &quot;red&quot;,\n  &quot;iconColor&quot;: &quot;white&quot;,\n  &quot;icon&quot;: &quot;info-sign&quot;,\n  &quot;prefix&quot;: &quot;glyphicon&quot;,\n  &quot;extraClasses&quot;: &quot;fa-rotate-0&quot;,\n}\n            );\n        \n    \n                marker_14b9003210f5995664bb96fdf4945f94.setIcon(icon_3afaf1d99e7598f67ce764969a1460d7);\n            \n    \n            var marker_26f950cb344dbe39935c7c47fbe4f1dc = L.marker(\n                [34.63283416, -120.6107455],\n                {\n  &quot;color&quot;: &quot;red&quot;,\n}\n            ).addTo(marker_cluster_f04c52fc31c7cb56403a346c16f517c3);\n        \n    \n            var icon_012373572c6ae1080ffeb867ca852473 = L.AwesomeMarkers.icon(\n                {\n  &quot;markerColor&quot;: &quot;red&quot;,\n  &quot;iconColor&quot;: &quot;white&quot;,\n  &quot;icon&quot;: &quot;info-sign&quot;,\n  &quot;prefix&quot;: &quot;glyphicon&quot;,\n  &quot;extraClasses&quot;: &quot;fa-rotate-0&quot;,\n}\n            );\n        \n    \n                marker_26f950cb344dbe39935c7c47fbe4f1dc.setIcon(icon_012373572c6ae1080ffeb867ca852473);\n            \n    \n            var marker_35325c6a77117ae7e2275a0ae68d2748 = L.marker(\n                [34.63283416, -120.6107455],\n                {\n  &quot;color&quot;: &quot;red&quot;,\n}\n            ).addTo(marker_cluster_f04c52fc31c7cb56403a346c16f517c3);\n        \n    \n            var icon_b0f2c5f3c10927d47d4429f1568cfc5e = L.AwesomeMarkers.icon(\n                {\n  &quot;markerColor&quot;: &quot;red&quot;,\n  &quot;iconColor&quot;: &quot;white&quot;,\n  &quot;icon&quot;: &quot;info-sign&quot;,\n  &quot;prefix&quot;: &quot;glyphicon&quot;,\n  &quot;extraClasses&quot;: &quot;fa-rotate-0&quot;,\n}\n            );\n        \n    \n                marker_35325c6a77117ae7e2275a0ae68d2748.setIcon(icon_b0f2c5f3c10927d47d4429f1568cfc5e);\n            \n    \n            var marker_efb8a9559e14de4e95e24ca7edbacc7e = L.marker(\n                [28.57325457, -80.64689529],\n                {\n  &quot;color&quot;: &quot;green&quot;,\n}\n            ).addTo(marker_cluster_f04c52fc31c7cb56403a346c16f517c3);\n        \n    \n            var icon_64aa86df8887272e0d81021d9a29c34d = L.AwesomeMarkers.icon(\n                {\n  &quot;markerColor&quot;: &quot;green&quot;,\n  &quot;iconColor&quot;: &quot;white&quot;,\n  &quot;icon&quot;: &quot;info-sign&quot;,\n  &quot;prefix&quot;: &quot;glyphicon&quot;,\n  &quot;extraClasses&quot;: &quot;fa-rotate-0&quot;,\n}\n            );\n        \n    \n                marker_efb8a9559e14de4e95e24ca7edbacc7e.setIcon(icon_64aa86df8887272e0d81021d9a29c34d);\n            \n    \n            var marker_c66a5e554083f3d04673b5d16bdb5bed = L.marker(\n                [28.57325457, -80.64689529],\n                {\n  &quot;color&quot;: &quot;red&quot;,\n}\n            ).addTo(marker_cluster_f04c52fc31c7cb56403a346c16f517c3);\n        \n    \n            var icon_2ca6c6d1a15de9e5b61270563886788f = L.AwesomeMarkers.icon(\n                {\n  &quot;markerColor&quot;: &quot;red&quot;,\n  &quot;iconColor&quot;: &quot;white&quot;,\n  &quot;icon&quot;: &quot;info-sign&quot;,\n  &quot;prefix&quot;: &quot;glyphicon&quot;,\n  &quot;extraClasses&quot;: &quot;fa-rotate-0&quot;,\n}\n            );\n        \n    \n                marker_c66a5e554083f3d04673b5d16bdb5bed.setIcon(icon_2ca6c6d1a15de9e5b61270563886788f);\n            \n    \n            var marker_bc98e534988ad8b90f8a001beddf1a51 = L.marker(\n                [28.57325457, -80.64689529],\n                {\n  &quot;color&quot;: &quot;green&quot;,\n}\n            ).addTo(marker_cluster_f04c52fc31c7cb56403a346c16f517c3);\n        \n    \n            var icon_b84d10b91e0458916826602b34919e5c = L.AwesomeMarkers.icon(\n                {\n  &quot;markerColor&quot;: &quot;green&quot;,\n  &quot;iconColor&quot;: &quot;white&quot;,\n  &quot;icon&quot;: &quot;info-sign&quot;,\n  &quot;prefix&quot;: &quot;glyphicon&quot;,\n  &quot;extraClasses&quot;: &quot;fa-rotate-0&quot;,\n}\n            );\n        \n    \n                marker_bc98e534988ad8b90f8a001beddf1a51.setIcon(icon_b84d10b91e0458916826602b34919e5c);\n            \n    \n            var marker_bd1f4450829136913279eeb1e21abb19 = L.marker(\n                [28.57325457, -80.64689529],\n                {\n  &quot;color&quot;: &quot;green&quot;,\n}\n            ).addTo(marker_cluster_f04c52fc31c7cb56403a346c16f517c3);\n        \n    \n            var icon_99597c21b51bc0932fd92af084a1d9ad = L.AwesomeMarkers.icon(\n                {\n  &quot;markerColor&quot;: &quot;green&quot;,\n  &quot;iconColor&quot;: &quot;white&quot;,\n  &quot;icon&quot;: &quot;info-sign&quot;,\n  &quot;prefix&quot;: &quot;glyphicon&quot;,\n  &quot;extraClasses&quot;: &quot;fa-rotate-0&quot;,\n}\n            );\n        \n    \n                marker_bd1f4450829136913279eeb1e21abb19.setIcon(icon_99597c21b51bc0932fd92af084a1d9ad);\n            \n    \n            var marker_8289174c8f8cbb35fac61bb6cdb72185 = L.marker(\n                [28.57325457, -80.64689529],\n                {\n  &quot;color&quot;: &quot;red&quot;,\n}\n            ).addTo(marker_cluster_f04c52fc31c7cb56403a346c16f517c3);\n        \n    \n            var icon_d8d25f21166c9e0060f534f918f013bd = L.AwesomeMarkers.icon(\n                {\n  &quot;markerColor&quot;: &quot;red&quot;,\n  &quot;iconColor&quot;: &quot;white&quot;,\n  &quot;icon&quot;: &quot;info-sign&quot;,\n  &quot;prefix&quot;: &quot;glyphicon&quot;,\n  &quot;extraClasses&quot;: &quot;fa-rotate-0&quot;,\n}\n            );\n        \n    \n                marker_8289174c8f8cbb35fac61bb6cdb72185.setIcon(icon_d8d25f21166c9e0060f534f918f013bd);\n            \n    \n            var marker_a64c7d67dca2a1a7ef3286418bc6c54a = L.marker(\n                [28.57325457, -80.64689529],\n                {\n  &quot;color&quot;: &quot;green&quot;,\n}\n            ).addTo(marker_cluster_f04c52fc31c7cb56403a346c16f517c3);\n        \n    \n            var icon_ba95ec458d387903951b1d8370adba96 = L.AwesomeMarkers.icon(\n                {\n  &quot;markerColor&quot;: &quot;green&quot;,\n  &quot;iconColor&quot;: &quot;white&quot;,\n  &quot;icon&quot;: &quot;info-sign&quot;,\n  &quot;prefix&quot;: &quot;glyphicon&quot;,\n  &quot;extraClasses&quot;: &quot;fa-rotate-0&quot;,\n}\n            );\n        \n    \n                marker_a64c7d67dca2a1a7ef3286418bc6c54a.setIcon(icon_ba95ec458d387903951b1d8370adba96);\n            \n    \n            var marker_cf88ede2d91e95ea0e9ef4c370e283f7 = L.marker(\n                [28.57325457, -80.64689529],\n                {\n  &quot;color&quot;: &quot;green&quot;,\n}\n            ).addTo(marker_cluster_f04c52fc31c7cb56403a346c16f517c3);\n        \n    \n            var icon_a99a26e0579a510706713aa169484e77 = L.AwesomeMarkers.icon(\n                {\n  &quot;markerColor&quot;: &quot;green&quot;,\n  &quot;iconColor&quot;: &quot;white&quot;,\n  &quot;icon&quot;: &quot;info-sign&quot;,\n  &quot;prefix&quot;: &quot;glyphicon&quot;,\n  &quot;extraClasses&quot;: &quot;fa-rotate-0&quot;,\n}\n            );\n        \n    \n                marker_cf88ede2d91e95ea0e9ef4c370e283f7.setIcon(icon_a99a26e0579a510706713aa169484e77);\n            \n    \n            var marker_c7576ade7a0e3aa3107734e023ff08b0 = L.marker(\n                [28.57325457, -80.64689529],\n                {\n  &quot;color&quot;: &quot;red&quot;,\n}\n            ).addTo(marker_cluster_f04c52fc31c7cb56403a346c16f517c3);\n        \n    \n            var icon_dcc4161906f114630c1cdfbeaaf8148d = L.AwesomeMarkers.icon(\n                {\n  &quot;markerColor&quot;: &quot;red&quot;,\n  &quot;iconColor&quot;: &quot;white&quot;,\n  &quot;icon&quot;: &quot;info-sign&quot;,\n  &quot;prefix&quot;: &quot;glyphicon&quot;,\n  &quot;extraClasses&quot;: &quot;fa-rotate-0&quot;,\n}\n            );\n        \n    \n                marker_c7576ade7a0e3aa3107734e023ff08b0.setIcon(icon_dcc4161906f114630c1cdfbeaaf8148d);\n            \n    \n            var marker_d99367e3688fb147026e1cba0a3f89b4 = L.marker(\n                [28.57325457, -80.64689529],\n                {\n  &quot;color&quot;: &quot;green&quot;,\n}\n            ).addTo(marker_cluster_f04c52fc31c7cb56403a346c16f517c3);\n        \n    \n            var icon_1e33671db5f9733a4626372c6308bdde = L.AwesomeMarkers.icon(\n                {\n  &quot;markerColor&quot;: &quot;green&quot;,\n  &quot;iconColor&quot;: &quot;white&quot;,\n  &quot;icon&quot;: &quot;info-sign&quot;,\n  &quot;prefix&quot;: &quot;glyphicon&quot;,\n  &quot;extraClasses&quot;: &quot;fa-rotate-0&quot;,\n}\n            );\n        \n    \n                marker_d99367e3688fb147026e1cba0a3f89b4.setIcon(icon_1e33671db5f9733a4626372c6308bdde);\n            \n    \n            var marker_b8c0ade11a8ae4c10dfccfb10108f52c = L.marker(\n                [28.57325457, -80.64689529],\n                {\n  &quot;color&quot;: &quot;green&quot;,\n}\n            ).addTo(marker_cluster_f04c52fc31c7cb56403a346c16f517c3);\n        \n    \n            var icon_e47bf32733d42175023f2eabb2b596ad = L.AwesomeMarkers.icon(\n                {\n  &quot;markerColor&quot;: &quot;green&quot;,\n  &quot;iconColor&quot;: &quot;white&quot;,\n  &quot;icon&quot;: &quot;info-sign&quot;,\n  &quot;prefix&quot;: &quot;glyphicon&quot;,\n  &quot;extraClasses&quot;: &quot;fa-rotate-0&quot;,\n}\n            );\n        \n    \n                marker_b8c0ade11a8ae4c10dfccfb10108f52c.setIcon(icon_e47bf32733d42175023f2eabb2b596ad);\n            \n    \n            var marker_e87b552a11d5a6d0a4f67c805a54a04f = L.marker(\n                [28.57325457, -80.64689529],\n                {\n  &quot;color&quot;: &quot;green&quot;,\n}\n            ).addTo(marker_cluster_f04c52fc31c7cb56403a346c16f517c3);\n        \n    \n            var icon_8bc4e306151b6b4fce8ddf159ed3e40e = L.AwesomeMarkers.icon(\n                {\n  &quot;markerColor&quot;: &quot;green&quot;,\n  &quot;iconColor&quot;: &quot;white&quot;,\n  &quot;icon&quot;: &quot;info-sign&quot;,\n  &quot;prefix&quot;: &quot;glyphicon&quot;,\n  &quot;extraClasses&quot;: &quot;fa-rotate-0&quot;,\n}\n            );\n        \n    \n                marker_e87b552a11d5a6d0a4f67c805a54a04f.setIcon(icon_8bc4e306151b6b4fce8ddf159ed3e40e);\n            \n    \n            var marker_a20438bb0206200e65bd6c109745d4bd = L.marker(\n                [28.57325457, -80.64689529],\n                {\n  &quot;color&quot;: &quot;green&quot;,\n}\n            ).addTo(marker_cluster_f04c52fc31c7cb56403a346c16f517c3);\n        \n    \n            var icon_9ad89120224bc122f258cd1056aaf731 = L.AwesomeMarkers.icon(\n                {\n  &quot;markerColor&quot;: &quot;green&quot;,\n  &quot;iconColor&quot;: &quot;white&quot;,\n  &quot;icon&quot;: &quot;info-sign&quot;,\n  &quot;prefix&quot;: &quot;glyphicon&quot;,\n  &quot;extraClasses&quot;: &quot;fa-rotate-0&quot;,\n}\n            );\n        \n    \n                marker_a20438bb0206200e65bd6c109745d4bd.setIcon(icon_9ad89120224bc122f258cd1056aaf731);\n            \n    \n            var marker_94597f5be61f2cabd88d408ad3b90e12 = L.marker(\n                [28.57325457, -80.64689529],\n                {\n  &quot;color&quot;: &quot;green&quot;,\n}\n            ).addTo(marker_cluster_f04c52fc31c7cb56403a346c16f517c3);\n        \n    \n            var icon_68fb02298bf08e8961cc573d5dbe03d5 = L.AwesomeMarkers.icon(\n                {\n  &quot;markerColor&quot;: &quot;green&quot;,\n  &quot;iconColor&quot;: &quot;white&quot;,\n  &quot;icon&quot;: &quot;info-sign&quot;,\n  &quot;prefix&quot;: &quot;glyphicon&quot;,\n  &quot;extraClasses&quot;: &quot;fa-rotate-0&quot;,\n}\n            );\n        \n    \n                marker_94597f5be61f2cabd88d408ad3b90e12.setIcon(icon_68fb02298bf08e8961cc573d5dbe03d5);\n            \n    \n            var marker_1b080f3f22496fb77bab0c2a547f9d16 = L.marker(\n                [28.56319718, -80.57682003],\n                {\n  &quot;color&quot;: &quot;green&quot;,\n}\n            ).addTo(marker_cluster_f04c52fc31c7cb56403a346c16f517c3);\n        \n    \n            var icon_e4ae95f77759203cfbfe4285d78bdaaa = L.AwesomeMarkers.icon(\n                {\n  &quot;markerColor&quot;: &quot;green&quot;,\n  &quot;iconColor&quot;: &quot;white&quot;,\n  &quot;icon&quot;: &quot;info-sign&quot;,\n  &quot;prefix&quot;: &quot;glyphicon&quot;,\n  &quot;extraClasses&quot;: &quot;fa-rotate-0&quot;,\n}\n            );\n        \n    \n                marker_1b080f3f22496fb77bab0c2a547f9d16.setIcon(icon_e4ae95f77759203cfbfe4285d78bdaaa);\n            \n    \n            var marker_c787e645f92af57747c2e873fcf07415 = L.marker(\n                [28.56319718, -80.57682003],\n                {\n  &quot;color&quot;: &quot;green&quot;,\n}\n            ).addTo(marker_cluster_f04c52fc31c7cb56403a346c16f517c3);\n        \n    \n            var icon_569957d7f82b7b29d1e2fe63a33c00c7 = L.AwesomeMarkers.icon(\n                {\n  &quot;markerColor&quot;: &quot;green&quot;,\n  &quot;iconColor&quot;: &quot;white&quot;,\n  &quot;icon&quot;: &quot;info-sign&quot;,\n  &quot;prefix&quot;: &quot;glyphicon&quot;,\n  &quot;extraClasses&quot;: &quot;fa-rotate-0&quot;,\n}\n            );\n        \n    \n                marker_c787e645f92af57747c2e873fcf07415.setIcon(icon_569957d7f82b7b29d1e2fe63a33c00c7);\n            \n    \n            var marker_9f72f04e3e50eebb9e20735dae97b321 = L.marker(\n                [28.56319718, -80.57682003],\n                {\n  &quot;color&quot;: &quot;red&quot;,\n}\n            ).addTo(marker_cluster_f04c52fc31c7cb56403a346c16f517c3);\n        \n    \n            var icon_d54dc194ea51d2a007e0d732a1fb3426 = L.AwesomeMarkers.icon(\n                {\n  &quot;markerColor&quot;: &quot;red&quot;,\n  &quot;iconColor&quot;: &quot;white&quot;,\n  &quot;icon&quot;: &quot;info-sign&quot;,\n  &quot;prefix&quot;: &quot;glyphicon&quot;,\n  &quot;extraClasses&quot;: &quot;fa-rotate-0&quot;,\n}\n            );\n        \n    \n                marker_9f72f04e3e50eebb9e20735dae97b321.setIcon(icon_d54dc194ea51d2a007e0d732a1fb3426);\n            \n    \n            var marker_2b0c6a5ca1a58250fcea2f8bf5560e1b = L.marker(\n                [28.56319718, -80.57682003],\n                {\n  &quot;color&quot;: &quot;red&quot;,\n}\n            ).addTo(marker_cluster_f04c52fc31c7cb56403a346c16f517c3);\n        \n    \n            var icon_b1f1791c029445fdd0c1f9207dc70f76 = L.AwesomeMarkers.icon(\n                {\n  &quot;markerColor&quot;: &quot;red&quot;,\n  &quot;iconColor&quot;: &quot;white&quot;,\n  &quot;icon&quot;: &quot;info-sign&quot;,\n  &quot;prefix&quot;: &quot;glyphicon&quot;,\n  &quot;extraClasses&quot;: &quot;fa-rotate-0&quot;,\n}\n            );\n        \n    \n                marker_2b0c6a5ca1a58250fcea2f8bf5560e1b.setIcon(icon_b1f1791c029445fdd0c1f9207dc70f76);\n            \n    \n            var marker_b55f459516db6b8f3e8d18cd318acb1e = L.marker(\n                [28.56319718, -80.57682003],\n                {\n  &quot;color&quot;: &quot;red&quot;,\n}\n            ).addTo(marker_cluster_f04c52fc31c7cb56403a346c16f517c3);\n        \n    \n            var icon_f186bbeab2f46a7740d075770cc60993 = L.AwesomeMarkers.icon(\n                {\n  &quot;markerColor&quot;: &quot;red&quot;,\n  &quot;iconColor&quot;: &quot;white&quot;,\n  &quot;icon&quot;: &quot;info-sign&quot;,\n  &quot;prefix&quot;: &quot;glyphicon&quot;,\n  &quot;extraClasses&quot;: &quot;fa-rotate-0&quot;,\n}\n            );\n        \n    \n                marker_b55f459516db6b8f3e8d18cd318acb1e.setIcon(icon_f186bbeab2f46a7740d075770cc60993);\n            \n    \n            var marker_547b30193ff6637a0cd93bd91f35a84f = L.marker(\n                [28.56319718, -80.57682003],\n                {\n  &quot;color&quot;: &quot;green&quot;,\n}\n            ).addTo(marker_cluster_f04c52fc31c7cb56403a346c16f517c3);\n        \n    \n            var icon_4899da25e3afadc47906f95390182f20 = L.AwesomeMarkers.icon(\n                {\n  &quot;markerColor&quot;: &quot;green&quot;,\n  &quot;iconColor&quot;: &quot;white&quot;,\n  &quot;icon&quot;: &quot;info-sign&quot;,\n  &quot;prefix&quot;: &quot;glyphicon&quot;,\n  &quot;extraClasses&quot;: &quot;fa-rotate-0&quot;,\n}\n            );\n        \n    \n                marker_547b30193ff6637a0cd93bd91f35a84f.setIcon(icon_4899da25e3afadc47906f95390182f20);\n            \n    \n            var marker_e2030731eb319fdf162564947fc069d5 = L.marker(\n                [28.56319718, -80.57682003],\n                {\n  &quot;color&quot;: &quot;red&quot;,\n}\n            ).addTo(marker_cluster_f04c52fc31c7cb56403a346c16f517c3);\n        \n    \n            var icon_a2c0e4fd5d285003c23f855434f2ef60 = L.AwesomeMarkers.icon(\n                {\n  &quot;markerColor&quot;: &quot;red&quot;,\n  &quot;iconColor&quot;: &quot;white&quot;,\n  &quot;icon&quot;: &quot;info-sign&quot;,\n  &quot;prefix&quot;: &quot;glyphicon&quot;,\n  &quot;extraClasses&quot;: &quot;fa-rotate-0&quot;,\n}\n            );\n        \n    \n                marker_e2030731eb319fdf162564947fc069d5.setIcon(icon_a2c0e4fd5d285003c23f855434f2ef60);\n            \n    \n            marker_cluster_f04c52fc31c7cb56403a346c16f517c3.addTo(map_1e2c00c0be9c316a1621ebc0ac7e5d45);\n        \n&lt;/script&gt;\n&lt;/html&gt;\" style=\"position:absolute;width:100%;height:100%;left:0;top:0;border:none !important;\" allowfullscreen webkitallowfullscreen mozallowfullscreen></iframe></div></div>"
          },
          "metadata": {}
        }
      ],
      "execution_count": 33
    },
    {
      "cell_type": "markdown",
      "source": "Your updated map may look like the following screenshots:\n",
      "metadata": {}
    },
    {
      "cell_type": "markdown",
      "source": "<center>\n    <img src=\"https://cf-courses-data.s3.us.cloud-object-storage.appdomain.cloud/IBM-DS0321EN-SkillsNetwork/labs/module_3/images/launch_site_marker_cluster.png\">\n</center>\n",
      "metadata": {}
    },
    {
      "cell_type": "markdown",
      "source": "<center>\n    <img src=\"https://cf-courses-data.s3.us.cloud-object-storage.appdomain.cloud/IBM-DS0321EN-SkillsNetwork/labs/module_3/images/launch_site_marker_cluster_zoomed.png\">\n</center>\n",
      "metadata": {}
    },
    {
      "cell_type": "markdown",
      "source": "From the color-labeled markers in marker clusters, you should be able to easily identify which launch sites have relatively high success rates.\n",
      "metadata": {}
    },
    {
      "cell_type": "code",
      "source": "# TASK 3: Calculate the distances between a launch site to its proximities\n",
      "metadata": {},
      "outputs": [],
      "execution_count": null
    },
    {
      "cell_type": "markdown",
      "source": "Next, we need to explore and analyze the proximities of launch sites.\n",
      "metadata": {}
    },
    {
      "cell_type": "markdown",
      "source": "Let's first add a `MousePosition` on the map to get coordinate for a mouse over a point on the map. As such, while you are exploring the map, you can easily find the coordinates of any points of interests (such as railway)\n",
      "metadata": {}
    },
    {
      "cell_type": "code",
      "source": "# Add Mouse Position to get the coordinate (Lat, Long) for a mouse over on the map\nformatter = \"function(num) {return L.Util.formatNum(num, 5);};\"\nmouse_position = MousePosition(\n    position='topright',\n    separator=' Long: ',\n    empty_string='NaN',\n    lng_first=False,\n    num_digits=20,\n    prefix='Lat:',\n    lat_formatter=formatter,\n    lng_formatter=formatter,\n)\n\nsite_map.add_child(mouse_position)\nsite_map",
      "metadata": {},
      "outputs": [],
      "execution_count": null
    },
    {
      "cell_type": "markdown",
      "source": "Now zoom in to a launch site and explore its proximity to see if you can easily find any railway, highway, coastline, etc. Move your mouse to these points and mark down their coordinates (shown on the top-left) in order to the distance to the launch site.\n",
      "metadata": {}
    },
    {
      "cell_type": "markdown",
      "source": "Now zoom in to a launch site and explore its proximity to see if you can easily find any railway, highway, coastline, etc. Move your mouse to these points and mark down their coordinates (shown on the top-left) in order to the distance to the launch site.\n",
      "metadata": {}
    },
    {
      "cell_type": "code",
      "source": "from math import sin, cos, sqrt, atan2, radians\n\ndef calculate_distance(lat1, lon1, lat2, lon2):\n    # approximate radius of earth in km\n    R = 6373.0\n\n    lat1 = radians(lat1)\n    lon1 = radians(lon1)\n    lat2 = radians(lat2)\n    lon2 = radians(lon2)\n\n    dlon = lon2 - lon1\n    dlat = lat2 - lat1\n\n    a = sin(dlat / 2)**2 + cos(lat1) * cos(lat2) * sin(dlon / 2)**2\n    c = 2 * atan2(sqrt(a), sqrt(1 - a))\n\n    distance = R * c\n    return distance",
      "metadata": {},
      "outputs": [],
      "execution_count": null
    },
    {
      "cell_type": "markdown",
      "source": "*TODO:* Mark down a point on the closest coastline using MousePosition and calculate the distance between the coastline point and the launch site.\n",
      "metadata": {}
    },
    {
      "cell_type": "code",
      "source": "# find coordinate of the closet coastline\n# e.g.,: Lat: 28.56367  Lon: -80.57163\n# distance_coastline = calculate_distance(launch_site_lat, launch_site_lon, coastline_lat, coastline_lon)",
      "metadata": {},
      "outputs": [],
      "execution_count": null
    },
    {
      "cell_type": "code",
      "source": "# Create and add a folium.Marker on your selected closest coastline point on the map\n# Display the distance between coastline point and launch site using the icon property \n# for example\n# distance_marker = folium.Marker(\n#    coordinate,\n#    icon=DivIcon(\n#        icon_size=(20,20),\n#        icon_anchor=(0,0),\n#        html='<div style=\"font-size: 12; color:#d35400;\"><b>%s</b></div>' % \"{:10.2f} KM\".format(distance),\n#        )\n#    )",
      "metadata": {},
      "outputs": [],
      "execution_count": null
    },
    {
      "cell_type": "markdown",
      "source": "*TODO:* Draw a `PolyLine` between a launch site to the selected coastline point\n",
      "metadata": {}
    },
    {
      "cell_type": "code",
      "source": "# Create a `folium.PolyLine` object using the coastline coordinates and launch site coordinate\n# lines=folium.PolyLine(locations=coordinates, weight=1)\nsite_map.add_child(lines)",
      "metadata": {},
      "outputs": [],
      "execution_count": null
    },
    {
      "cell_type": "markdown",
      "source": "Your updated map with distance line should look like the following screenshot:\n",
      "metadata": {}
    },
    {
      "cell_type": "markdown",
      "source": "<center>\n    <img src=\"https://cf-courses-data.s3.us.cloud-object-storage.appdomain.cloud/IBM-DS0321EN-SkillsNetwork/labs/module_3/images/launch_site_marker_distance.png\">\n</center>\n",
      "metadata": {}
    },
    {
      "cell_type": "markdown",
      "source": "*TODO:* Similarly, you can draw a line betwee a launch site to its closest city, railway, highway, etc. You need to use `MousePosition` to find the their coordinates on the map first\n",
      "metadata": {}
    },
    {
      "cell_type": "markdown",
      "source": "A railway map symbol may look like this:\n",
      "metadata": {}
    },
    {
      "cell_type": "markdown",
      "source": "<center>\n    <img src=\"https://cf-courses-data.s3.us.cloud-object-storage.appdomain.cloud/IBM-DS0321EN-SkillsNetwork/labs/module_3/images/railway.png\">\n</center>\n",
      "metadata": {}
    },
    {
      "cell_type": "markdown",
      "source": "A highway map symbol may look like this:\n",
      "metadata": {}
    },
    {
      "cell_type": "markdown",
      "source": "<center>\n    <img src=\"https://cf-courses-data.s3.us.cloud-object-storage.appdomain.cloud/IBM-DS0321EN-SkillsNetwork/labs/module_3/images/highway.png\">\n</center>\n",
      "metadata": {}
    },
    {
      "cell_type": "markdown",
      "source": "A city map symbol may look like this:\n",
      "metadata": {}
    },
    {
      "cell_type": "markdown",
      "source": "<center>\n    <img src=\"https://cf-courses-data.s3.us.cloud-object-storage.appdomain.cloud/IBM-DS0321EN-SkillsNetwork/labs/module_3/images/city.png\">\n</center>\n",
      "metadata": {}
    },
    {
      "cell_type": "code",
      "source": "# Create a marker with distance to a closest city, railway, highway, etc.\n# Draw a line between the marker to the launch site\n",
      "metadata": {},
      "outputs": [],
      "execution_count": null
    },
    {
      "cell_type": "code",
      "source": "",
      "metadata": {},
      "outputs": [],
      "execution_count": null
    },
    {
      "cell_type": "code",
      "source": "",
      "metadata": {},
      "outputs": [],
      "execution_count": null
    },
    {
      "cell_type": "markdown",
      "source": "After you plot distance lines to the proximities, you can answer the following questions easily:\n\n*   Are launch sites in close proximity to railways?\n*   Are launch sites in close proximity to highways?\n*   Are launch sites in close proximity to coastline?\n*   Do launch sites keep certain distance away from cities?\n\nAlso please try to explain your findings.\n",
      "metadata": {}
    },
    {
      "cell_type": "markdown",
      "source": "# Next Steps:\n\nNow you have discovered many interesting insights related to the launch sites' location using folium, in a very interactive way. Next, you will need to build a dashboard using Ploty Dash on detailed launch records.\n",
      "metadata": {}
    },
    {
      "cell_type": "markdown",
      "source": "## Authors\n",
      "metadata": {}
    },
    {
      "cell_type": "markdown",
      "source": "[Pratiksha Verma](https://www.linkedin.com/in/pratiksha-verma-6487561b1/)\n",
      "metadata": {}
    },
    {
      "cell_type": "markdown",
      "source": "<!--## Change Log--!>\n",
      "metadata": {}
    },
    {
      "cell_type": "markdown",
      "source": "<!--| Date (YYYY-MM-DD) | Version | Changed By      | Change Description      |\n| ----------------- | ------- | -------------   | ----------------------- |\n| 2022-11-09        | 1.0     | Pratiksha Verma | Converted initial version to Jupyterlite|--!>\n",
      "metadata": {}
    },
    {
      "cell_type": "markdown",
      "source": "### <h3 align=\"center\"> IBM Corporation 2022. All rights reserved. <h3/>\n",
      "metadata": {}
    }
  ]
}